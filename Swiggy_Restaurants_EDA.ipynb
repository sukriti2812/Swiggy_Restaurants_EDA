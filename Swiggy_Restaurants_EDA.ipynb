{
 "cells": [
  {
   "cell_type": "markdown",
   "id": "32b349df",
   "metadata": {},
   "source": [
    "# Exploratory Data Analysis on Swiggy Varanasi Restaurants Dataset"
   ]
  },
  {
   "cell_type": "markdown",
   "id": "d6cb6aea",
   "metadata": {},
   "source": [
    "Download dataset here - https://www.kaggle.com/datasets/chinmayshanbhag/swiggy-varanasi-restaurants"
   ]
  },
  {
   "cell_type": "markdown",
   "id": "bb571789",
   "metadata": {},
   "source": [
    "**Importing the Libraries**"
   ]
  },
  {
   "cell_type": "code",
   "execution_count": 154,
   "id": "ff3c7cb8",
   "metadata": {},
   "outputs": [],
   "source": [
    "import pandas as pd\n",
    "import numpy as np\n",
    "import matplotlib.pyplot as plt\n",
    "import seaborn as sns\n",
    "import warnings\n",
    "warnings.filterwarnings('ignore')"
   ]
  },
  {
   "cell_type": "markdown",
   "id": "2bd4419f",
   "metadata": {},
   "source": [
    "**Importing the dataset**"
   ]
  },
  {
   "cell_type": "code",
   "execution_count": 155,
   "id": "ed60c4ef",
   "metadata": {},
   "outputs": [
    {
     "data": {
      "text/html": [
       "<div>\n",
       "<style scoped>\n",
       "    .dataframe tbody tr th:only-of-type {\n",
       "        vertical-align: middle;\n",
       "    }\n",
       "\n",
       "    .dataframe tbody tr th {\n",
       "        vertical-align: top;\n",
       "    }\n",
       "\n",
       "    .dataframe thead th {\n",
       "        text-align: right;\n",
       "    }\n",
       "</style>\n",
       "<table border=\"1\" class=\"dataframe\">\n",
       "  <thead>\n",
       "    <tr style=\"text-align: right;\">\n",
       "      <th></th>\n",
       "      <th>Restaurant Name</th>\n",
       "      <th>Category</th>\n",
       "      <th>Rating</th>\n",
       "      <th>Cost for two</th>\n",
       "      <th>Area</th>\n",
       "      <th>Locality</th>\n",
       "      <th>Address</th>\n",
       "      <th>Veg</th>\n",
       "      <th>Long Distance Delivery</th>\n",
       "    </tr>\n",
       "  </thead>\n",
       "  <tbody>\n",
       "    <tr>\n",
       "      <th>0</th>\n",
       "      <td>Singh's Delight Restaurant(Sunderpur)</td>\n",
       "      <td>North Indian,Biryani,Mughlai,Chinese</td>\n",
       "      <td>3.8</td>\n",
       "      <td>350</td>\n",
       "      <td>Nagwa</td>\n",
       "      <td>Sunderpur</td>\n",
       "      <td>1st Floor , Near Life Line Hospital, Brij Encl...</td>\n",
       "      <td>False</td>\n",
       "      <td>0</td>\n",
       "    </tr>\n",
       "    <tr>\n",
       "      <th>1</th>\n",
       "      <td>Burger King</td>\n",
       "      <td>American,Fast Food</td>\n",
       "      <td>4.1</td>\n",
       "      <td>350</td>\n",
       "      <td>Sigra</td>\n",
       "      <td>Shastri Nagar</td>\n",
       "      <td>Ground Floor and First Floor,Tulsi Complex,C-1...</td>\n",
       "      <td>False</td>\n",
       "      <td>0</td>\n",
       "    </tr>\n",
       "    <tr>\n",
       "      <th>2</th>\n",
       "      <td>McDonald's</td>\n",
       "      <td>American</td>\n",
       "      <td>4.0</td>\n",
       "      <td>400</td>\n",
       "      <td>Varanasi Cantonment</td>\n",
       "      <td>JHV Mall</td>\n",
       "      <td>UP Varanasi JHV Mall,  Shop No. 19-21/G, JHV M...</td>\n",
       "      <td>False</td>\n",
       "      <td>0</td>\n",
       "    </tr>\n",
       "    <tr>\n",
       "      <th>3</th>\n",
       "      <td>Aman E Khas</td>\n",
       "      <td>Mughlai,Biryani,North Indian,Chinese</td>\n",
       "      <td>3.9</td>\n",
       "      <td>350</td>\n",
       "      <td>Bhelupur</td>\n",
       "      <td>Bhelupur</td>\n",
       "      <td>Boradway Hotel, Near IP Vijay Mall, Bhelupur, ...</td>\n",
       "      <td>False</td>\n",
       "      <td>0</td>\n",
       "    </tr>\n",
       "    <tr>\n",
       "      <th>4</th>\n",
       "      <td>Mahadev momo and coffee corner</td>\n",
       "      <td>Chinese</td>\n",
       "      <td>NaN</td>\n",
       "      <td>200</td>\n",
       "      <td>Sigra</td>\n",
       "      <td>Sigra</td>\n",
       "      <td>C28/141-k-p, teliyabagh, varanasi nagar nigam ...</td>\n",
       "      <td>False</td>\n",
       "      <td>0</td>\n",
       "    </tr>\n",
       "  </tbody>\n",
       "</table>\n",
       "</div>"
      ],
      "text/plain": [
       "                         Restaurant Name  \\\n",
       "0  Singh's Delight Restaurant(Sunderpur)   \n",
       "1                            Burger King   \n",
       "2                             McDonald's   \n",
       "3                            Aman E Khas   \n",
       "4         Mahadev momo and coffee corner   \n",
       "\n",
       "                               Category  Rating  Cost for two  \\\n",
       "0  North Indian,Biryani,Mughlai,Chinese     3.8           350   \n",
       "1                    American,Fast Food     4.1           350   \n",
       "2                              American     4.0           400   \n",
       "3  Mughlai,Biryani,North Indian,Chinese     3.9           350   \n",
       "4                               Chinese     NaN           200   \n",
       "\n",
       "                  Area       Locality  \\\n",
       "0                Nagwa      Sunderpur   \n",
       "1                Sigra  Shastri Nagar   \n",
       "2  Varanasi Cantonment       JHV Mall   \n",
       "3             Bhelupur       Bhelupur   \n",
       "4                Sigra          Sigra   \n",
       "\n",
       "                                             Address    Veg  \\\n",
       "0  1st Floor , Near Life Line Hospital, Brij Encl...  False   \n",
       "1  Ground Floor and First Floor,Tulsi Complex,C-1...  False   \n",
       "2  UP Varanasi JHV Mall,  Shop No. 19-21/G, JHV M...  False   \n",
       "3  Boradway Hotel, Near IP Vijay Mall, Bhelupur, ...  False   \n",
       "4  C28/141-k-p, teliyabagh, varanasi nagar nigam ...  False   \n",
       "\n",
       "   Long Distance Delivery  \n",
       "0                       0  \n",
       "1                       0  \n",
       "2                       0  \n",
       "3                       0  \n",
       "4                       0  "
      ]
     },
     "execution_count": 155,
     "metadata": {},
     "output_type": "execute_result"
    }
   ],
   "source": [
    "sw = pd.read_csv('Swiggy_Varanasi.csv')\n",
    "sw.head()"
   ]
  },
  {
   "cell_type": "code",
   "execution_count": 156,
   "id": "0fdba73e",
   "metadata": {},
   "outputs": [
    {
     "data": {
      "text/plain": [
       "(667, 9)"
      ]
     },
     "execution_count": 156,
     "metadata": {},
     "output_type": "execute_result"
    }
   ],
   "source": [
    "sw.shape"
   ]
  },
  {
   "cell_type": "code",
   "execution_count": 157,
   "id": "8544d37b",
   "metadata": {},
   "outputs": [
    {
     "data": {
      "text/plain": [
       "Index(['Restaurant Name', 'Category', 'Rating', 'Cost for two', 'Area',\n",
       "       'Locality', 'Address', 'Veg', 'Long Distance Delivery'],\n",
       "      dtype='object')"
      ]
     },
     "execution_count": 157,
     "metadata": {},
     "output_type": "execute_result"
    }
   ],
   "source": [
    "sw.columns"
   ]
  },
  {
   "cell_type": "markdown",
   "id": "c8f440d3",
   "metadata": {},
   "source": [
    "**Summary statistics of the dataset**"
   ]
  },
  {
   "cell_type": "code",
   "execution_count": 158,
   "id": "cd121544",
   "metadata": {},
   "outputs": [
    {
     "name": "stdout",
     "output_type": "stream",
     "text": [
      "<class 'pandas.core.frame.DataFrame'>\n",
      "RangeIndex: 667 entries, 0 to 666\n",
      "Data columns (total 9 columns):\n",
      " #   Column                  Non-Null Count  Dtype  \n",
      "---  ------                  --------------  -----  \n",
      " 0   Restaurant Name         667 non-null    object \n",
      " 1   Category                667 non-null    object \n",
      " 2   Rating                  269 non-null    float64\n",
      " 3   Cost for two            667 non-null    int64  \n",
      " 4   Area                    667 non-null    object \n",
      " 5   Locality                667 non-null    object \n",
      " 6   Address                 667 non-null    object \n",
      " 7   Veg                     667 non-null    bool   \n",
      " 8   Long Distance Delivery  667 non-null    int64  \n",
      "dtypes: bool(1), float64(1), int64(2), object(5)\n",
      "memory usage: 42.5+ KB\n"
     ]
    }
   ],
   "source": [
    "sw.info()"
   ]
  },
  {
   "cell_type": "code",
   "execution_count": 159,
   "id": "759bd62a",
   "metadata": {},
   "outputs": [
    {
     "data": {
      "text/html": [
       "<div>\n",
       "<style scoped>\n",
       "    .dataframe tbody tr th:only-of-type {\n",
       "        vertical-align: middle;\n",
       "    }\n",
       "\n",
       "    .dataframe tbody tr th {\n",
       "        vertical-align: top;\n",
       "    }\n",
       "\n",
       "    .dataframe thead th {\n",
       "        text-align: right;\n",
       "    }\n",
       "</style>\n",
       "<table border=\"1\" class=\"dataframe\">\n",
       "  <thead>\n",
       "    <tr style=\"text-align: right;\">\n",
       "      <th></th>\n",
       "      <th>Rating</th>\n",
       "      <th>Cost for two</th>\n",
       "      <th>Long Distance Delivery</th>\n",
       "    </tr>\n",
       "  </thead>\n",
       "  <tbody>\n",
       "    <tr>\n",
       "      <th>count</th>\n",
       "      <td>269.000000</td>\n",
       "      <td>667.000000</td>\n",
       "      <td>667.000000</td>\n",
       "    </tr>\n",
       "    <tr>\n",
       "      <th>mean</th>\n",
       "      <td>3.658364</td>\n",
       "      <td>287.698651</td>\n",
       "      <td>0.226387</td>\n",
       "    </tr>\n",
       "    <tr>\n",
       "      <th>std</th>\n",
       "      <td>0.525306</td>\n",
       "      <td>124.776259</td>\n",
       "      <td>0.418806</td>\n",
       "    </tr>\n",
       "    <tr>\n",
       "      <th>min</th>\n",
       "      <td>1.200000</td>\n",
       "      <td>2.000000</td>\n",
       "      <td>0.000000</td>\n",
       "    </tr>\n",
       "    <tr>\n",
       "      <th>25%</th>\n",
       "      <td>3.500000</td>\n",
       "      <td>200.000000</td>\n",
       "      <td>0.000000</td>\n",
       "    </tr>\n",
       "    <tr>\n",
       "      <th>50%</th>\n",
       "      <td>3.800000</td>\n",
       "      <td>250.000000</td>\n",
       "      <td>0.000000</td>\n",
       "    </tr>\n",
       "    <tr>\n",
       "      <th>75%</th>\n",
       "      <td>4.000000</td>\n",
       "      <td>350.000000</td>\n",
       "      <td>0.000000</td>\n",
       "    </tr>\n",
       "    <tr>\n",
       "      <th>max</th>\n",
       "      <td>4.600000</td>\n",
       "      <td>1400.000000</td>\n",
       "      <td>1.000000</td>\n",
       "    </tr>\n",
       "  </tbody>\n",
       "</table>\n",
       "</div>"
      ],
      "text/plain": [
       "           Rating  Cost for two  Long Distance Delivery\n",
       "count  269.000000    667.000000              667.000000\n",
       "mean     3.658364    287.698651                0.226387\n",
       "std      0.525306    124.776259                0.418806\n",
       "min      1.200000      2.000000                0.000000\n",
       "25%      3.500000    200.000000                0.000000\n",
       "50%      3.800000    250.000000                0.000000\n",
       "75%      4.000000    350.000000                0.000000\n",
       "max      4.600000   1400.000000                1.000000"
      ]
     },
     "execution_count": 159,
     "metadata": {},
     "output_type": "execute_result"
    }
   ],
   "source": [
    "# We can see that the Rating column has most amount of missing values\n",
    "# Next we look at description of the dataset\n",
    "sw.describe()"
   ]
  },
  {
   "cell_type": "markdown",
   "id": "f462d7e7",
   "metadata": {},
   "source": [
    "So, from above, we can see that the average cost for two people in any restaurant is atleast 288 rupees."
   ]
  },
  {
   "cell_type": "code",
   "execution_count": 160,
   "id": "4055171e",
   "metadata": {},
   "outputs": [
    {
     "data": {
      "text/plain": [
       "False"
      ]
     },
     "execution_count": 160,
     "metadata": {},
     "output_type": "execute_result"
    }
   ],
   "source": [
    "# Let's check for any duplicated values\n",
    "sw.duplicated().any()"
   ]
  },
  {
   "cell_type": "code",
   "execution_count": 161,
   "id": "f3aa1c83",
   "metadata": {},
   "outputs": [
    {
     "data": {
      "text/plain": [
       "Restaurant Name             0\n",
       "Category                    0\n",
       "Rating                    398\n",
       "Cost for two                0\n",
       "Area                        0\n",
       "Locality                    0\n",
       "Address                     0\n",
       "Veg                         0\n",
       "Long Distance Delivery      0\n",
       "dtype: int64"
      ]
     },
     "execution_count": 161,
     "metadata": {},
     "output_type": "execute_result"
    }
   ],
   "source": [
    "# Checking for missing values\n",
    "sw.isnull().sum()"
   ]
  },
  {
   "cell_type": "code",
   "execution_count": 162,
   "id": "3b32be20",
   "metadata": {},
   "outputs": [
    {
     "data": {
      "text/plain": [
       "3.7"
      ]
     },
     "execution_count": 162,
     "metadata": {},
     "output_type": "execute_result"
    }
   ],
   "source": [
    "# We will fill the missing values in 'Rating' column with mean rating\n",
    "import math\n",
    "mean_rating = round(sw.Rating.mean(),1)\n",
    "mean_rating"
   ]
  },
  {
   "cell_type": "code",
   "execution_count": 163,
   "id": "6ce3dc55",
   "metadata": {},
   "outputs": [
    {
     "data": {
      "text/plain": [
       "0"
      ]
     },
     "execution_count": 163,
     "metadata": {},
     "output_type": "execute_result"
    }
   ],
   "source": [
    "sw['Rating'] = sw['Rating'].fillna(mean_rating)\n",
    "sw.Rating.isnull().sum()"
   ]
  },
  {
   "cell_type": "code",
   "execution_count": 164,
   "id": "084ba961",
   "metadata": {},
   "outputs": [
    {
     "data": {
      "text/html": [
       "<div>\n",
       "<style scoped>\n",
       "    .dataframe tbody tr th:only-of-type {\n",
       "        vertical-align: middle;\n",
       "    }\n",
       "\n",
       "    .dataframe tbody tr th {\n",
       "        vertical-align: top;\n",
       "    }\n",
       "\n",
       "    .dataframe thead th {\n",
       "        text-align: right;\n",
       "    }\n",
       "</style>\n",
       "<table border=\"1\" class=\"dataframe\">\n",
       "  <thead>\n",
       "    <tr style=\"text-align: right;\">\n",
       "      <th></th>\n",
       "      <th>Restaurant Name</th>\n",
       "      <th>Category</th>\n",
       "      <th>Rating</th>\n",
       "      <th>Cost for two</th>\n",
       "      <th>Area</th>\n",
       "      <th>Locality</th>\n",
       "      <th>Veg</th>\n",
       "      <th>Long Distance Delivery</th>\n",
       "    </tr>\n",
       "  </thead>\n",
       "  <tbody>\n",
       "    <tr>\n",
       "      <th>0</th>\n",
       "      <td>Singh's Delight Restaurant(Sunderpur)</td>\n",
       "      <td>North Indian,Biryani,Mughlai,Chinese</td>\n",
       "      <td>3.8</td>\n",
       "      <td>350</td>\n",
       "      <td>Nagwa</td>\n",
       "      <td>Sunderpur</td>\n",
       "      <td>False</td>\n",
       "      <td>0</td>\n",
       "    </tr>\n",
       "    <tr>\n",
       "      <th>1</th>\n",
       "      <td>Burger King</td>\n",
       "      <td>American,Fast Food</td>\n",
       "      <td>4.1</td>\n",
       "      <td>350</td>\n",
       "      <td>Sigra</td>\n",
       "      <td>Shastri Nagar</td>\n",
       "      <td>False</td>\n",
       "      <td>0</td>\n",
       "    </tr>\n",
       "    <tr>\n",
       "      <th>2</th>\n",
       "      <td>McDonald's</td>\n",
       "      <td>American</td>\n",
       "      <td>4.0</td>\n",
       "      <td>400</td>\n",
       "      <td>Varanasi Cantonment</td>\n",
       "      <td>JHV Mall</td>\n",
       "      <td>False</td>\n",
       "      <td>0</td>\n",
       "    </tr>\n",
       "    <tr>\n",
       "      <th>3</th>\n",
       "      <td>Aman E Khas</td>\n",
       "      <td>Mughlai,Biryani,North Indian,Chinese</td>\n",
       "      <td>3.9</td>\n",
       "      <td>350</td>\n",
       "      <td>Bhelupur</td>\n",
       "      <td>Bhelupur</td>\n",
       "      <td>False</td>\n",
       "      <td>0</td>\n",
       "    </tr>\n",
       "    <tr>\n",
       "      <th>4</th>\n",
       "      <td>Mahadev momo and coffee corner</td>\n",
       "      <td>Chinese</td>\n",
       "      <td>3.7</td>\n",
       "      <td>200</td>\n",
       "      <td>Sigra</td>\n",
       "      <td>Sigra</td>\n",
       "      <td>False</td>\n",
       "      <td>0</td>\n",
       "    </tr>\n",
       "  </tbody>\n",
       "</table>\n",
       "</div>"
      ],
      "text/plain": [
       "                         Restaurant Name  \\\n",
       "0  Singh's Delight Restaurant(Sunderpur)   \n",
       "1                            Burger King   \n",
       "2                             McDonald's   \n",
       "3                            Aman E Khas   \n",
       "4         Mahadev momo and coffee corner   \n",
       "\n",
       "                               Category  Rating  Cost for two  \\\n",
       "0  North Indian,Biryani,Mughlai,Chinese     3.8           350   \n",
       "1                    American,Fast Food     4.1           350   \n",
       "2                              American     4.0           400   \n",
       "3  Mughlai,Biryani,North Indian,Chinese     3.9           350   \n",
       "4                               Chinese     3.7           200   \n",
       "\n",
       "                  Area       Locality    Veg  Long Distance Delivery  \n",
       "0                Nagwa      Sunderpur  False                       0  \n",
       "1                Sigra  Shastri Nagar  False                       0  \n",
       "2  Varanasi Cantonment       JHV Mall  False                       0  \n",
       "3             Bhelupur       Bhelupur  False                       0  \n",
       "4                Sigra          Sigra  False                       0  "
      ]
     },
     "execution_count": 164,
     "metadata": {},
     "output_type": "execute_result"
    }
   ],
   "source": [
    "## Drop all unnecessary columns\n",
    "sw = sw.drop(['Address'],axis=1)\n",
    "sw.head()"
   ]
  },
  {
   "cell_type": "code",
   "execution_count": 165,
   "id": "2ceb230a",
   "metadata": {
    "scrolled": false
   },
   "outputs": [
    {
     "data": {
      "text/plain": [
       "Restaurant Name            object\n",
       "Category                   object\n",
       "Rating                    float64\n",
       "Cost for two                int64\n",
       "Area                       object\n",
       "Locality                   object\n",
       "Veg                          bool\n",
       "Long Distance Delivery      int64\n",
       "dtype: object"
      ]
     },
     "execution_count": 165,
     "metadata": {},
     "output_type": "execute_result"
    }
   ],
   "source": [
    "sw.dtypes"
   ]
  },
  {
   "cell_type": "code",
   "execution_count": 166,
   "id": "af399a2b",
   "metadata": {},
   "outputs": [
    {
     "data": {
      "text/html": [
       "<div>\n",
       "<style scoped>\n",
       "    .dataframe tbody tr th:only-of-type {\n",
       "        vertical-align: middle;\n",
       "    }\n",
       "\n",
       "    .dataframe tbody tr th {\n",
       "        vertical-align: top;\n",
       "    }\n",
       "\n",
       "    .dataframe thead th {\n",
       "        text-align: right;\n",
       "    }\n",
       "</style>\n",
       "<table border=\"1\" class=\"dataframe\">\n",
       "  <thead>\n",
       "    <tr style=\"text-align: right;\">\n",
       "      <th></th>\n",
       "      <th>Restaurant Name</th>\n",
       "      <th>Category</th>\n",
       "      <th>Rating</th>\n",
       "      <th>Cost for two</th>\n",
       "      <th>Area</th>\n",
       "      <th>Locality</th>\n",
       "      <th>Veg</th>\n",
       "      <th>Long Distance Delivery</th>\n",
       "    </tr>\n",
       "  </thead>\n",
       "  <tbody>\n",
       "    <tr>\n",
       "      <th>0</th>\n",
       "      <td>Singh's Delight Restaurant(Sunderpur)</td>\n",
       "      <td>North Indian,Biryani,Mughlai,Chinese</td>\n",
       "      <td>3.8</td>\n",
       "      <td>350</td>\n",
       "      <td>Nagwa</td>\n",
       "      <td>Sunderpur</td>\n",
       "      <td>False</td>\n",
       "      <td>No</td>\n",
       "    </tr>\n",
       "    <tr>\n",
       "      <th>1</th>\n",
       "      <td>Burger King</td>\n",
       "      <td>American,Fast Food</td>\n",
       "      <td>4.1</td>\n",
       "      <td>350</td>\n",
       "      <td>Sigra</td>\n",
       "      <td>Shastri Nagar</td>\n",
       "      <td>False</td>\n",
       "      <td>No</td>\n",
       "    </tr>\n",
       "    <tr>\n",
       "      <th>2</th>\n",
       "      <td>McDonald's</td>\n",
       "      <td>American</td>\n",
       "      <td>4.0</td>\n",
       "      <td>400</td>\n",
       "      <td>Varanasi Cantonment</td>\n",
       "      <td>JHV Mall</td>\n",
       "      <td>False</td>\n",
       "      <td>No</td>\n",
       "    </tr>\n",
       "    <tr>\n",
       "      <th>3</th>\n",
       "      <td>Aman E Khas</td>\n",
       "      <td>Mughlai,Biryani,North Indian,Chinese</td>\n",
       "      <td>3.9</td>\n",
       "      <td>350</td>\n",
       "      <td>Bhelupur</td>\n",
       "      <td>Bhelupur</td>\n",
       "      <td>False</td>\n",
       "      <td>No</td>\n",
       "    </tr>\n",
       "    <tr>\n",
       "      <th>4</th>\n",
       "      <td>Mahadev momo and coffee corner</td>\n",
       "      <td>Chinese</td>\n",
       "      <td>3.7</td>\n",
       "      <td>200</td>\n",
       "      <td>Sigra</td>\n",
       "      <td>Sigra</td>\n",
       "      <td>False</td>\n",
       "      <td>No</td>\n",
       "    </tr>\n",
       "    <tr>\n",
       "      <th>...</th>\n",
       "      <td>...</td>\n",
       "      <td>...</td>\n",
       "      <td>...</td>\n",
       "      <td>...</td>\n",
       "      <td>...</td>\n",
       "      <td>...</td>\n",
       "      <td>...</td>\n",
       "      <td>...</td>\n",
       "    </tr>\n",
       "    <tr>\n",
       "      <th>662</th>\n",
       "      <td>The Star Bakery</td>\n",
       "      <td>Bakery</td>\n",
       "      <td>3.7</td>\n",
       "      <td>200</td>\n",
       "      <td>IIT</td>\n",
       "      <td>IIT</td>\n",
       "      <td>True</td>\n",
       "      <td>Yes</td>\n",
       "    </tr>\n",
       "    <tr>\n",
       "      <th>663</th>\n",
       "      <td>The Live Bakery</td>\n",
       "      <td>Bakery</td>\n",
       "      <td>3.7</td>\n",
       "      <td>200</td>\n",
       "      <td>IIT</td>\n",
       "      <td>IIT</td>\n",
       "      <td>True</td>\n",
       "      <td>Yes</td>\n",
       "    </tr>\n",
       "    <tr>\n",
       "      <th>664</th>\n",
       "      <td>GO GREEN BAKERY</td>\n",
       "      <td>Bakery</td>\n",
       "      <td>3.7</td>\n",
       "      <td>200</td>\n",
       "      <td>IIT</td>\n",
       "      <td>IIT</td>\n",
       "      <td>True</td>\n",
       "      <td>Yes</td>\n",
       "    </tr>\n",
       "    <tr>\n",
       "      <th>665</th>\n",
       "      <td>Fresh Cake</td>\n",
       "      <td>Bakery</td>\n",
       "      <td>3.7</td>\n",
       "      <td>200</td>\n",
       "      <td>IIT</td>\n",
       "      <td>IIT</td>\n",
       "      <td>True</td>\n",
       "      <td>Yes</td>\n",
       "    </tr>\n",
       "    <tr>\n",
       "      <th>666</th>\n",
       "      <td>Ram Bakery</td>\n",
       "      <td>Bakery</td>\n",
       "      <td>3.7</td>\n",
       "      <td>200</td>\n",
       "      <td>IIT</td>\n",
       "      <td>IIT</td>\n",
       "      <td>False</td>\n",
       "      <td>Yes</td>\n",
       "    </tr>\n",
       "  </tbody>\n",
       "</table>\n",
       "<p>667 rows × 8 columns</p>\n",
       "</div>"
      ],
      "text/plain": [
       "                           Restaurant Name  \\\n",
       "0    Singh's Delight Restaurant(Sunderpur)   \n",
       "1                              Burger King   \n",
       "2                               McDonald's   \n",
       "3                              Aman E Khas   \n",
       "4           Mahadev momo and coffee corner   \n",
       "..                                     ...   \n",
       "662                        The Star Bakery   \n",
       "663                        The Live Bakery   \n",
       "664                        GO GREEN BAKERY   \n",
       "665                             Fresh Cake   \n",
       "666                             Ram Bakery   \n",
       "\n",
       "                                 Category  Rating  Cost for two  \\\n",
       "0    North Indian,Biryani,Mughlai,Chinese     3.8           350   \n",
       "1                      American,Fast Food     4.1           350   \n",
       "2                                American     4.0           400   \n",
       "3    Mughlai,Biryani,North Indian,Chinese     3.9           350   \n",
       "4                                 Chinese     3.7           200   \n",
       "..                                    ...     ...           ...   \n",
       "662                                Bakery     3.7           200   \n",
       "663                                Bakery     3.7           200   \n",
       "664                                Bakery     3.7           200   \n",
       "665                                Bakery     3.7           200   \n",
       "666                                Bakery     3.7           200   \n",
       "\n",
       "                    Area       Locality    Veg Long Distance Delivery  \n",
       "0                  Nagwa      Sunderpur  False                     No  \n",
       "1                  Sigra  Shastri Nagar  False                     No  \n",
       "2    Varanasi Cantonment       JHV Mall  False                     No  \n",
       "3               Bhelupur       Bhelupur  False                     No  \n",
       "4                  Sigra          Sigra  False                     No  \n",
       "..                   ...            ...    ...                    ...  \n",
       "662                  IIT            IIT   True                    Yes  \n",
       "663                  IIT            IIT   True                    Yes  \n",
       "664                  IIT            IIT   True                    Yes  \n",
       "665                  IIT            IIT   True                    Yes  \n",
       "666                  IIT            IIT  False                    Yes  \n",
       "\n",
       "[667 rows x 8 columns]"
      ]
     },
     "execution_count": 166,
     "metadata": {},
     "output_type": "execute_result"
    }
   ],
   "source": [
    "#Replace 0 by No and 1 by Yes in Long Distance Delivery column\n",
    "sw['Long Distance Delivery'] = sw['Long Distance Delivery'].replace(0, 'No')\n",
    "sw['Long Distance Delivery'] = sw['Long Distance Delivery'].replace(1, 'Yes')\n",
    "sw"
   ]
  },
  {
   "cell_type": "code",
   "execution_count": 167,
   "id": "3b2f1e73",
   "metadata": {},
   "outputs": [
    {
     "data": {
      "text/plain": [
       "array(['Nagwa', 'Sigra', 'Varanasi Cantonment', 'Bhelupur', 'Jahumandi',\n",
       "       'Nadesar', 'Maheshpur', 'Mahmoorganj', 'Chaukaghat', 'Shivpurwa',\n",
       "       'Ramapura Luxa', 'Chetganj', 'Lanka', 'sigra', 'Shivpur',\n",
       "       'Teliyabag', 'Jaitpura', 'IIT', 'Kakarmata', 'Rathyatra ',\n",
       "       'Manduwadih', 'MADHAULI', 'Lehertara Industrial Estate',\n",
       "       'Kailashpuri Colony', 'Golghar', 'siigra', 'Sikraul', 'Hamrautia',\n",
       "       'Harha', 'Dig Colony', 'Khajuri Colony', 'Golghar kachehri',\n",
       "       'sigra varanasi', 'Ram katora piplani katra road ', 'Kakarmatta',\n",
       "       'Naibasti', 'New colony kakarmatta, sunderpur', 'Kabir Chaura',\n",
       "       'Sidhgiribagh', 'Bhelupur Varanasi', 'Luxa Road',\n",
       "       'luxa,Ramapura ,Varanasi', 'kachahri', 'Kotwali', 'Godowlia',\n",
       "       'Ghasi Tola', 'Varanasi', 'Vda Colony', 'Bhullanpur', 'Pandeypur',\n",
       "       'Mahavir mandir orderlybazar', 'Newada', 'Chotta Chuppepur',\n",
       "       'Bangali Tola', 'Jivan nagar collony, Bajardiha', 'Bhojuveer',\n",
       "       'Bisweshwarganj', 'Karaundi', 'Naria',\n",
       "       'Premchandra Nagar Phase - 2', 'PANDEYPUR', 'Dumraon Colony',\n",
       "       'Shivala', 'durgakund', 'Aalampura', 'Indrapur', 'karudi',\n",
       "       'Bagatpur', 'Paharia', 'Sankata Mochan Leprosy', 'Nagwa Lanka',\n",
       "       ' Lanka Assi Road, Varanasi', 'Pahariya ', 'Basahi', 'Kadipur',\n",
       "       'Chadmari ', 'Lamhi', 'Asapur', 'sarnath', 'Babatpur', 'Sarnath',\n",
       "       'Lanka Varanasi ', 'Chandmari', 'Naranpur dafi', 'Awaleshpur'],\n",
       "      dtype=object)"
      ]
     },
     "execution_count": 167,
     "metadata": {},
     "output_type": "execute_result"
    }
   ],
   "source": [
    "sw['Area'].unique()"
   ]
  },
  {
   "cell_type": "code",
   "execution_count": 168,
   "id": "88b46358",
   "metadata": {},
   "outputs": [
    {
     "data": {
      "text/plain": [
       "array(['Sunderpur', 'Shastri Nagar', 'JHV Mall', 'Bhelupur', 'Sigra',\n",
       "       'Rathyatra', 'Nadesar', 'Mahmoorganj', 'Lanka', 'Varanasi',\n",
       "       'Chetganj', 'Durgakund', 'Celestial Building', 'sigra',\n",
       "       'Sigra Mahmoorganj Rd', 'IIT', 'Chhawani Cantonment',\n",
       "       'Dr. Anand Xray and ultrasound', 'Ramkatora', 'JHV MALL VARANASI',\n",
       "       'Pandeypur, Varanasi', 'OPP TRUE VALUE SHOP', 'Kasturba Nagar',\n",
       "       'Ashapur', 'Lohta road', 'luxa', 'Golghar, Nadeshar',\n",
       "       'mahmoorganj', 'Kachahari', 'Kakarmatta', 'Bhojuveer', 'pandeypur',\n",
       "       'sigra varanasi', 'Pandeypur', 'New colony kakarmatta, sunderpur',\n",
       "       'Godowlia', 'Bhelupur Varanasi', 'Bansphatak',\n",
       "       'luxa,Ramapura ,Varanasi', 'Kachahri', 'Sarainandan Khojwan',\n",
       "       'Kanchanpur', 'bhojubeer', 'Near I P Vijay Mall', 'Orderly Bazaar',\n",
       "       'Nevada Sundarpur', 'Jivan nagar collony, Bajardiha',\n",
       "       'Near Kal bhairo temple', 'PANDEYPUR', 'karudi', 'Pahariya',\n",
       "       'lanka', 'Lanka, BHU Road', 'Malviya Kunj, lanka', 'Babatpur',\n",
       "       'Sarnath', 'Lanka Varanasi', 'Bada Lalpur,  Chandmari',\n",
       "       'Naranpur dafi'], dtype=object)"
      ]
     },
     "execution_count": 168,
     "metadata": {},
     "output_type": "execute_result"
    }
   ],
   "source": [
    "sw['Locality'].unique()"
   ]
  },
  {
   "cell_type": "code",
   "execution_count": 169,
   "id": "33444e6b",
   "metadata": {},
   "outputs": [],
   "source": [
    "# Area and Location are both pointing to same result, so we will keep only one : Location\n",
    "sw = sw.drop(['Area'],axis=1)"
   ]
  },
  {
   "cell_type": "code",
   "execution_count": 170,
   "id": "0082c93d",
   "metadata": {},
   "outputs": [
    {
     "data": {
      "text/html": [
       "<div>\n",
       "<style scoped>\n",
       "    .dataframe tbody tr th:only-of-type {\n",
       "        vertical-align: middle;\n",
       "    }\n",
       "\n",
       "    .dataframe tbody tr th {\n",
       "        vertical-align: top;\n",
       "    }\n",
       "\n",
       "    .dataframe thead th {\n",
       "        text-align: right;\n",
       "    }\n",
       "</style>\n",
       "<table border=\"1\" class=\"dataframe\">\n",
       "  <thead>\n",
       "    <tr style=\"text-align: right;\">\n",
       "      <th></th>\n",
       "      <th>Restaurant Name</th>\n",
       "      <th>Category</th>\n",
       "      <th>Rating</th>\n",
       "      <th>Cost for two</th>\n",
       "      <th>Locality</th>\n",
       "      <th>Veg</th>\n",
       "      <th>Long Distance Delivery</th>\n",
       "    </tr>\n",
       "  </thead>\n",
       "  <tbody>\n",
       "    <tr>\n",
       "      <th>0</th>\n",
       "      <td>Singh's Delight Restaurant(Sunderpur)</td>\n",
       "      <td>North Indian,Biryani,Mughlai,Chinese</td>\n",
       "      <td>3.8</td>\n",
       "      <td>350</td>\n",
       "      <td>Sunderpur</td>\n",
       "      <td>False</td>\n",
       "      <td>No</td>\n",
       "    </tr>\n",
       "    <tr>\n",
       "      <th>1</th>\n",
       "      <td>Burger King</td>\n",
       "      <td>American,Fast Food</td>\n",
       "      <td>4.1</td>\n",
       "      <td>350</td>\n",
       "      <td>Shastri Nagar</td>\n",
       "      <td>False</td>\n",
       "      <td>No</td>\n",
       "    </tr>\n",
       "    <tr>\n",
       "      <th>2</th>\n",
       "      <td>McDonald's</td>\n",
       "      <td>American</td>\n",
       "      <td>4.0</td>\n",
       "      <td>400</td>\n",
       "      <td>JHV Mall</td>\n",
       "      <td>False</td>\n",
       "      <td>No</td>\n",
       "    </tr>\n",
       "    <tr>\n",
       "      <th>3</th>\n",
       "      <td>Aman E Khas</td>\n",
       "      <td>Mughlai,Biryani,North Indian,Chinese</td>\n",
       "      <td>3.9</td>\n",
       "      <td>350</td>\n",
       "      <td>Bhelupur</td>\n",
       "      <td>False</td>\n",
       "      <td>No</td>\n",
       "    </tr>\n",
       "    <tr>\n",
       "      <th>4</th>\n",
       "      <td>Mahadev momo and coffee corner</td>\n",
       "      <td>Chinese</td>\n",
       "      <td>3.7</td>\n",
       "      <td>200</td>\n",
       "      <td>Sigra</td>\n",
       "      <td>False</td>\n",
       "      <td>No</td>\n",
       "    </tr>\n",
       "  </tbody>\n",
       "</table>\n",
       "</div>"
      ],
      "text/plain": [
       "                         Restaurant Name  \\\n",
       "0  Singh's Delight Restaurant(Sunderpur)   \n",
       "1                            Burger King   \n",
       "2                             McDonald's   \n",
       "3                            Aman E Khas   \n",
       "4         Mahadev momo and coffee corner   \n",
       "\n",
       "                               Category  Rating  Cost for two       Locality  \\\n",
       "0  North Indian,Biryani,Mughlai,Chinese     3.8           350      Sunderpur   \n",
       "1                    American,Fast Food     4.1           350  Shastri Nagar   \n",
       "2                              American     4.0           400       JHV Mall   \n",
       "3  Mughlai,Biryani,North Indian,Chinese     3.9           350       Bhelupur   \n",
       "4                               Chinese     3.7           200          Sigra   \n",
       "\n",
       "     Veg Long Distance Delivery  \n",
       "0  False                     No  \n",
       "1  False                     No  \n",
       "2  False                     No  \n",
       "3  False                     No  \n",
       "4  False                     No  "
      ]
     },
     "execution_count": 170,
     "metadata": {},
     "output_type": "execute_result"
    }
   ],
   "source": [
    "sw.head()"
   ]
  },
  {
   "cell_type": "code",
   "execution_count": 171,
   "id": "2f029886",
   "metadata": {},
   "outputs": [
    {
     "data": {
      "text/plain": [
       "array([ 350,  400,  200,  250,  300,  500,  120,  600,  700,  550,  100,\n",
       "        450,  150,  280,  149,   99,  750,  295, 1100,  800,  498,  380,\n",
       "        360,   50,    2,  199, 1400,  325,   90], dtype=int64)"
      ]
     },
     "execution_count": 171,
     "metadata": {},
     "output_type": "execute_result"
    }
   ],
   "source": [
    "sw['Cost for two'].unique()"
   ]
  },
  {
   "cell_type": "code",
   "execution_count": 172,
   "id": "b10d1e29",
   "metadata": {},
   "outputs": [
    {
     "data": {
      "text/plain": [
       "Sigra                               154\n",
       "Lanka                               148\n",
       "Nadesar                             133\n",
       "IIT                                 100\n",
       "Bhelupur                             23\n",
       "Mahmoorganj                          20\n",
       "Chetganj                             12\n",
       "Ashapur                               7\n",
       "Godowlia                              5\n",
       "Bhojuveer                             4\n",
       "Pandeypur                             4\n",
       "Sunderpur                             3\n",
       "pandeypur                             2\n",
       "Babatpur                              2\n",
       "sigra                                 2\n",
       "Sigra Mahmoorganj Rd                  2\n",
       "Durgakund                             2\n",
       "Varanasi                              2\n",
       "JHV Mall                              2\n",
       "Kanchanpur                            1\n",
       "Jivan nagar collony, Bajardiha        1\n",
       "bhojubeer                             1\n",
       "Sarainandan Khojwan                   1\n",
       "Near I P Vijay Mall                   1\n",
       "Orderly Bazaar                        1\n",
       "Nevada Sundarpur                      1\n",
       "Lanka, BHU Road                       1\n",
       "Near Kal bhairo temple                1\n",
       "PANDEYPUR                             1\n",
       "karudi                                1\n",
       "Pahariya                              1\n",
       "lanka                                 1\n",
       "luxa,Ramapura ,Varanasi               1\n",
       "Malviya Kunj, lanka                   1\n",
       "Sarnath                               1\n",
       "Lanka Varanasi                        1\n",
       "Bada Lalpur,  Chandmari               1\n",
       "Kachahri                              1\n",
       "Kakarmatta                            1\n",
       "Bansphatak                            1\n",
       "Bhelupur Varanasi                     1\n",
       "Rathyatra                             1\n",
       "Celestial Building                    1\n",
       "Chhawani Cantonment                   1\n",
       "Dr. Anand Xray and ultrasound         1\n",
       "Ramkatora                             1\n",
       "JHV MALL VARANASI                     1\n",
       "Pandeypur, Varanasi                   1\n",
       "OPP TRUE VALUE SHOP                   1\n",
       "Kasturba Nagar                        1\n",
       "Lohta road                            1\n",
       "luxa                                  1\n",
       "Golghar, Nadeshar                     1\n",
       "mahmoorganj                           1\n",
       "Kachahari                             1\n",
       "Shastri Nagar                         1\n",
       "sigra varanasi                        1\n",
       "New colony kakarmatta, sunderpur      1\n",
       "Naranpur dafi                         1\n",
       "Name: Locality, dtype: int64"
      ]
     },
     "execution_count": 172,
     "metadata": {},
     "output_type": "execute_result"
    }
   ],
   "source": [
    "sw['Locality'].value_counts()"
   ]
  },
  {
   "cell_type": "code",
   "execution_count": 173,
   "id": "c9d3327a",
   "metadata": {},
   "outputs": [
    {
     "data": {
      "text/plain": [
       "Sigra      154\n",
       "Lanka      148\n",
       "Nadesar    133\n",
       "others     132\n",
       "IIT        100\n",
       "Name: Locality, dtype: int64"
      ]
     },
     "execution_count": 173,
     "metadata": {},
     "output_type": "execute_result"
    }
   ],
   "source": [
    "# Since there are many localities having less than 10 restaurants, so we will group them as 'others'\n",
    "Locality = sw['Locality'].value_counts(ascending = True)\n",
    "\n",
    "locality_lessthan50 = Locality[Locality<50]\n",
    "\n",
    "def handle_locality(value):\n",
    "    if(value in locality_lessthan50):\n",
    "        return 'others'\n",
    "    else:\n",
    "        return value\n",
    "\n",
    "sw['Locality'] = sw['Locality'].apply(handle_locality)\n",
    "sw['Locality'].value_counts()"
   ]
  },
  {
   "cell_type": "code",
   "execution_count": 174,
   "id": "e8af4d21",
   "metadata": {},
   "outputs": [
    {
     "data": {
      "text/plain": [
       "Others          554\n",
       "Bakery           40\n",
       "Indian           25\n",
       "Chinese          20\n",
       "North Indian     15\n",
       "Pizzas           13\n",
       "Name: Category, dtype: int64"
      ]
     },
     "execution_count": 174,
     "metadata": {},
     "output_type": "execute_result"
    }
   ],
   "source": [
    "Category = sw['Category'].value_counts()\n",
    "\n",
    "Category_lessthan10 = Category[Category<=10]\n",
    "\n",
    "def handle_category(value):\n",
    "    if(value in Category_lessthan10):\n",
    "        return 'Others'\n",
    "    else:\n",
    "        return value\n",
    "    \n",
    "sw['Category'] = sw['Category'].apply(handle_category)\n",
    "sw['Category'].value_counts()"
   ]
  },
  {
   "cell_type": "code",
   "execution_count": 175,
   "id": "bc92d69e",
   "metadata": {},
   "outputs": [
    {
     "data": {
      "text/html": [
       "<div>\n",
       "<style scoped>\n",
       "    .dataframe tbody tr th:only-of-type {\n",
       "        vertical-align: middle;\n",
       "    }\n",
       "\n",
       "    .dataframe tbody tr th {\n",
       "        vertical-align: top;\n",
       "    }\n",
       "\n",
       "    .dataframe thead th {\n",
       "        text-align: right;\n",
       "    }\n",
       "</style>\n",
       "<table border=\"1\" class=\"dataframe\">\n",
       "  <thead>\n",
       "    <tr style=\"text-align: right;\">\n",
       "      <th></th>\n",
       "      <th>Restaurant Name</th>\n",
       "      <th>Category</th>\n",
       "      <th>Rating</th>\n",
       "      <th>Cost for two</th>\n",
       "      <th>Locality</th>\n",
       "      <th>Veg</th>\n",
       "      <th>Long Distance Delivery</th>\n",
       "    </tr>\n",
       "  </thead>\n",
       "  <tbody>\n",
       "    <tr>\n",
       "      <th>0</th>\n",
       "      <td>Singh's Delight Restaurant(Sunderpur)</td>\n",
       "      <td>Others</td>\n",
       "      <td>3.8</td>\n",
       "      <td>350</td>\n",
       "      <td>others</td>\n",
       "      <td>False</td>\n",
       "      <td>No</td>\n",
       "    </tr>\n",
       "    <tr>\n",
       "      <th>1</th>\n",
       "      <td>Burger King</td>\n",
       "      <td>Others</td>\n",
       "      <td>4.1</td>\n",
       "      <td>350</td>\n",
       "      <td>others</td>\n",
       "      <td>False</td>\n",
       "      <td>No</td>\n",
       "    </tr>\n",
       "    <tr>\n",
       "      <th>2</th>\n",
       "      <td>McDonald's</td>\n",
       "      <td>Others</td>\n",
       "      <td>4.0</td>\n",
       "      <td>400</td>\n",
       "      <td>others</td>\n",
       "      <td>False</td>\n",
       "      <td>No</td>\n",
       "    </tr>\n",
       "    <tr>\n",
       "      <th>3</th>\n",
       "      <td>Aman E Khas</td>\n",
       "      <td>Others</td>\n",
       "      <td>3.9</td>\n",
       "      <td>350</td>\n",
       "      <td>others</td>\n",
       "      <td>False</td>\n",
       "      <td>No</td>\n",
       "    </tr>\n",
       "    <tr>\n",
       "      <th>4</th>\n",
       "      <td>Mahadev momo and coffee corner</td>\n",
       "      <td>Chinese</td>\n",
       "      <td>3.7</td>\n",
       "      <td>200</td>\n",
       "      <td>Sigra</td>\n",
       "      <td>False</td>\n",
       "      <td>No</td>\n",
       "    </tr>\n",
       "  </tbody>\n",
       "</table>\n",
       "</div>"
      ],
      "text/plain": [
       "                         Restaurant Name Category  Rating  Cost for two  \\\n",
       "0  Singh's Delight Restaurant(Sunderpur)   Others     3.8           350   \n",
       "1                            Burger King   Others     4.1           350   \n",
       "2                             McDonald's   Others     4.0           400   \n",
       "3                            Aman E Khas   Others     3.9           350   \n",
       "4         Mahadev momo and coffee corner  Chinese     3.7           200   \n",
       "\n",
       "  Locality    Veg Long Distance Delivery  \n",
       "0   others  False                     No  \n",
       "1   others  False                     No  \n",
       "2   others  False                     No  \n",
       "3   others  False                     No  \n",
       "4    Sigra  False                     No  "
      ]
     },
     "execution_count": 175,
     "metadata": {},
     "output_type": "execute_result"
    }
   ],
   "source": [
    "sw.head()"
   ]
  },
  {
   "cell_type": "markdown",
   "id": "f784e93b",
   "metadata": {},
   "source": [
    "# Data Visualization"
   ]
  },
  {
   "cell_type": "code",
   "execution_count": 176,
   "id": "649cffef",
   "metadata": {},
   "outputs": [
    {
     "data": {
      "text/plain": [
       "Text(0.5, 1.0, 'Number of restaurants near every Locality')"
      ]
     },
     "execution_count": 176,
     "metadata": {},
     "output_type": "execute_result"
    },
    {
     "data": {
      "image/png": "[encoded data removed]",
      "text/plain": [
       "<Figure size 432x288 with 1 Axes>"
      ]
     },
     "metadata": {
      "needs_background": "light"
     },
     "output_type": "display_data"
    }
   ],
   "source": [
    "# Countplot of various locations\n",
    "sns.countplot(sw['Locality'], palette='rainbow')\n",
    "plt.title('Number of restaurants near every Locality')"
   ]
  },
  {
   "cell_type": "code",
   "execution_count": 177,
   "id": "f081b260",
   "metadata": {},
   "outputs": [
    {
     "data": {
      "image/png": "[encoded data removed]",
      "text/plain": [
       "<Figure size 864x360 with 1 Axes>"
      ]
     },
     "metadata": {
      "needs_background": "light"
     },
     "output_type": "display_data"
    }
   ],
   "source": [
    "# Countplot of different category of food available\n",
    "plt.figure(figsize=(12,5))\n",
    "ax=sns.countplot(sw['Category'], palette='rainbow')\n",
    "plt.xticks(rotation = 45)\n",
    "plt.show()"
   ]
  },
  {
   "cell_type": "code",
   "execution_count": 178,
   "id": "484817e1",
   "metadata": {},
   "outputs": [
    {
     "data": {
      "text/plain": [
       "<AxesSubplot:xlabel='Long Distance Delivery', ylabel='count'>"
      ]
     },
     "execution_count": 178,
     "metadata": {},
     "output_type": "execute_result"
    },
    {
     "data": {
      "image/png": "[encoded data removed]",
      "text/plain": [
       "<Figure size 432x288 with 1 Axes>"
      ]
     },
     "metadata": {
      "needs_background": "light"
     },
     "output_type": "display_data"
    }
   ],
   "source": [
    "# Most restaurants do not deliver long distance\n",
    "sns.countplot('Long Distance Delivery', data = sw)"
   ]
  },
  {
   "cell_type": "code",
   "execution_count": 179,
   "id": "8521e464",
   "metadata": {},
   "outputs": [
    {
     "data": {
      "text/plain": [
       "<AxesSubplot:xlabel='Long Distance Delivery', ylabel='Cost for two'>"
      ]
     },
     "execution_count": 179,
     "metadata": {},
     "output_type": "execute_result"
    },
    {
     "data": {
      "image/png": "[encoded data removed]",
      "text/plain": [
       "<Figure size 432x432 with 1 Axes>"
      ]
     },
     "metadata": {
      "needs_background": "light"
     },
     "output_type": "display_data"
    }
   ],
   "source": [
    "# Visualizing long distance delivery vs Cost for two\n",
    "plt.figure(figsize=(6,6))\n",
    "sns.boxplot(x='Long Distance Delivery', y='Cost for two', data = sw)"
   ]
  },
  {
   "cell_type": "code",
   "execution_count": 180,
   "id": "de5fa759",
   "metadata": {},
   "outputs": [
    {
     "data": {
      "text/html": [
       "<div>\n",
       "<style scoped>\n",
       "    .dataframe tbody tr th:only-of-type {\n",
       "        vertical-align: middle;\n",
       "    }\n",
       "\n",
       "    .dataframe tbody tr th {\n",
       "        vertical-align: top;\n",
       "    }\n",
       "\n",
       "    .dataframe thead tr th {\n",
       "        text-align: left;\n",
       "    }\n",
       "\n",
       "    .dataframe thead tr:last-of-type th {\n",
       "        text-align: right;\n",
       "    }\n",
       "</style>\n",
       "<table border=\"1\" class=\"dataframe\">\n",
       "  <thead>\n",
       "    <tr>\n",
       "      <th></th>\n",
       "      <th colspan=\"2\" halign=\"left\">Restaurant Name</th>\n",
       "    </tr>\n",
       "    <tr>\n",
       "      <th>Veg</th>\n",
       "      <th>False</th>\n",
       "      <th>True</th>\n",
       "    </tr>\n",
       "    <tr>\n",
       "      <th>Locality</th>\n",
       "      <th></th>\n",
       "      <th></th>\n",
       "    </tr>\n",
       "  </thead>\n",
       "  <tbody>\n",
       "    <tr>\n",
       "      <th>IIT</th>\n",
       "      <td>79</td>\n",
       "      <td>21</td>\n",
       "    </tr>\n",
       "    <tr>\n",
       "      <th>Lanka</th>\n",
       "      <td>118</td>\n",
       "      <td>30</td>\n",
       "    </tr>\n",
       "    <tr>\n",
       "      <th>Nadesar</th>\n",
       "      <td>104</td>\n",
       "      <td>29</td>\n",
       "    </tr>\n",
       "    <tr>\n",
       "      <th>Sigra</th>\n",
       "      <td>100</td>\n",
       "      <td>54</td>\n",
       "    </tr>\n",
       "    <tr>\n",
       "      <th>others</th>\n",
       "      <td>92</td>\n",
       "      <td>40</td>\n",
       "    </tr>\n",
       "  </tbody>\n",
       "</table>\n",
       "</div>"
      ],
      "text/plain": [
       "         Restaurant Name     \n",
       "Veg                False True\n",
       "Locality                     \n",
       "IIT                   79   21\n",
       "Lanka                118   30\n",
       "Nadesar              104   29\n",
       "Sigra                100   54\n",
       "others                92   40"
      ]
     },
     "execution_count": 180,
     "metadata": {},
     "output_type": "execute_result"
    }
   ],
   "source": [
    "# Visualizing choice for food (veg/non-veg) based on location\n",
    "df1 = sw.groupby(['Locality','Veg'])['Restaurant Name'].count()\n",
    "df1.to_csv('location_veg.csv')\n",
    "df1 = pd.read_csv('location_veg.csv')\n",
    "df1 = pd.pivot_table(df1, values=None, index=['Locality'], columns=['Veg'], fill_value=0, aggfunc=np.sum)\n",
    "df1"
   ]
  },
  {
   "cell_type": "markdown",
   "id": "e0707810",
   "metadata": {},
   "source": [
    "Most Vegetarian Restaurants can be found in Sigra"
   ]
  },
  {
   "cell_type": "code",
   "execution_count": 181,
   "id": "9c74e807",
   "metadata": {},
   "outputs": [
    {
     "data": {
      "text/plain": [
       "<AxesSubplot:xlabel='Locality'>"
      ]
     },
     "execution_count": 181,
     "metadata": {},
     "output_type": "execute_result"
    },
    {
     "data": {
      "image/png": "[encoded data removed]",
      "text/plain": [
       "<Figure size 864x432 with 1 Axes>"
      ]
     },
     "metadata": {
      "needs_background": "light"
     },
     "output_type": "display_data"
    }
   ],
   "source": [
    "df1.plot(kind='bar',figsize=(12,6))"
   ]
  },
  {
   "cell_type": "code",
   "execution_count": 182,
   "id": "5f2842b8",
   "metadata": {},
   "outputs": [
    {
     "data": {
      "text/html": [
       "<div>\n",
       "<style scoped>\n",
       "    .dataframe tbody tr th:only-of-type {\n",
       "        vertical-align: middle;\n",
       "    }\n",
       "\n",
       "    .dataframe tbody tr th {\n",
       "        vertical-align: top;\n",
       "    }\n",
       "\n",
       "    .dataframe thead tr th {\n",
       "        text-align: left;\n",
       "    }\n",
       "\n",
       "    .dataframe thead tr:last-of-type th {\n",
       "        text-align: right;\n",
       "    }\n",
       "</style>\n",
       "<table border=\"1\" class=\"dataframe\">\n",
       "  <thead>\n",
       "    <tr>\n",
       "      <th></th>\n",
       "      <th colspan=\"2\" halign=\"left\">Restaurant Name</th>\n",
       "    </tr>\n",
       "    <tr>\n",
       "      <th>Long Distance Delivery</th>\n",
       "      <th>No</th>\n",
       "      <th>Yes</th>\n",
       "    </tr>\n",
       "    <tr>\n",
       "      <th>Locality</th>\n",
       "      <th></th>\n",
       "      <th></th>\n",
       "    </tr>\n",
       "  </thead>\n",
       "  <tbody>\n",
       "    <tr>\n",
       "      <th>IIT</th>\n",
       "      <td>75</td>\n",
       "      <td>25</td>\n",
       "    </tr>\n",
       "    <tr>\n",
       "      <th>Lanka</th>\n",
       "      <td>92</td>\n",
       "      <td>56</td>\n",
       "    </tr>\n",
       "    <tr>\n",
       "      <th>Nadesar</th>\n",
       "      <td>89</td>\n",
       "      <td>44</td>\n",
       "    </tr>\n",
       "    <tr>\n",
       "      <th>Sigra</th>\n",
       "      <td>151</td>\n",
       "      <td>3</td>\n",
       "    </tr>\n",
       "    <tr>\n",
       "      <th>others</th>\n",
       "      <td>109</td>\n",
       "      <td>23</td>\n",
       "    </tr>\n",
       "  </tbody>\n",
       "</table>\n",
       "</div>"
      ],
      "text/plain": [
       "                       Restaurant Name    \n",
       "Long Distance Delivery              No Yes\n",
       "Locality                                  \n",
       "IIT                                 75  25\n",
       "Lanka                               92  56\n",
       "Nadesar                             89  44\n",
       "Sigra                              151   3\n",
       "others                             109  23"
      ]
     },
     "execution_count": 182,
     "metadata": {},
     "output_type": "execute_result"
    }
   ],
   "source": [
    "# Visualizing long distance delivery, location wise\n",
    "df2 = sw.groupby(['Locality','Long Distance Delivery'])['Restaurant Name'].count()\n",
    "df2.to_csv('location_long_delivery.csv')\n",
    "df2 = pd.read_csv('location_long_delivery.csv')\n",
    "df2 = pd.pivot_table(df2, values=None, index=['Locality'], columns=['Long Distance Delivery'], fill_value=0, aggfunc=np.sum)\n",
    "df2"
   ]
  },
  {
   "cell_type": "code",
   "execution_count": 183,
   "id": "9414353e",
   "metadata": {},
   "outputs": [
    {
     "data": {
      "text/plain": [
       "<AxesSubplot:xlabel='Locality'>"
      ]
     },
     "execution_count": 183,
     "metadata": {},
     "output_type": "execute_result"
    },
    {
     "data": {
      "image/png": "[encoded data removed]",
      "text/plain": [
       "<Figure size 1080x576 with 1 Axes>"
      ]
     },
     "metadata": {
      "needs_background": "light"
     },
     "output_type": "display_data"
    }
   ],
   "source": [
    "df2.plot(kind='bar',figsize=(15,8))"
   ]
  },
  {
   "cell_type": "code",
   "execution_count": 184,
   "id": "f23be55f",
   "metadata": {},
   "outputs": [
    {
     "data": {
      "text/html": [
       "<div>\n",
       "<style scoped>\n",
       "    .dataframe tbody tr th:only-of-type {\n",
       "        vertical-align: middle;\n",
       "    }\n",
       "\n",
       "    .dataframe tbody tr th {\n",
       "        vertical-align: top;\n",
       "    }\n",
       "\n",
       "    .dataframe thead tr th {\n",
       "        text-align: left;\n",
       "    }\n",
       "\n",
       "    .dataframe thead tr:last-of-type th {\n",
       "        text-align: right;\n",
       "    }\n",
       "</style>\n",
       "<table border=\"1\" class=\"dataframe\">\n",
       "  <thead>\n",
       "    <tr>\n",
       "      <th></th>\n",
       "      <th colspan=\"6\" halign=\"left\">Restaurant Name</th>\n",
       "    </tr>\n",
       "    <tr>\n",
       "      <th>Category</th>\n",
       "      <th>Bakery</th>\n",
       "      <th>Chinese</th>\n",
       "      <th>Indian</th>\n",
       "      <th>North Indian</th>\n",
       "      <th>Others</th>\n",
       "      <th>Pizzas</th>\n",
       "    </tr>\n",
       "    <tr>\n",
       "      <th>Locality</th>\n",
       "      <th></th>\n",
       "      <th></th>\n",
       "      <th></th>\n",
       "      <th></th>\n",
       "      <th></th>\n",
       "      <th></th>\n",
       "    </tr>\n",
       "  </thead>\n",
       "  <tbody>\n",
       "    <tr>\n",
       "      <th>IIT</th>\n",
       "      <td>12</td>\n",
       "      <td>4</td>\n",
       "      <td>5</td>\n",
       "      <td>3</td>\n",
       "      <td>76</td>\n",
       "      <td>0</td>\n",
       "    </tr>\n",
       "    <tr>\n",
       "      <th>Lanka</th>\n",
       "      <td>4</td>\n",
       "      <td>7</td>\n",
       "      <td>3</td>\n",
       "      <td>7</td>\n",
       "      <td>124</td>\n",
       "      <td>3</td>\n",
       "    </tr>\n",
       "    <tr>\n",
       "      <th>Nadesar</th>\n",
       "      <td>14</td>\n",
       "      <td>5</td>\n",
       "      <td>4</td>\n",
       "      <td>2</td>\n",
       "      <td>106</td>\n",
       "      <td>2</td>\n",
       "    </tr>\n",
       "    <tr>\n",
       "      <th>Sigra</th>\n",
       "      <td>6</td>\n",
       "      <td>3</td>\n",
       "      <td>11</td>\n",
       "      <td>2</td>\n",
       "      <td>125</td>\n",
       "      <td>7</td>\n",
       "    </tr>\n",
       "    <tr>\n",
       "      <th>others</th>\n",
       "      <td>4</td>\n",
       "      <td>1</td>\n",
       "      <td>2</td>\n",
       "      <td>1</td>\n",
       "      <td>123</td>\n",
       "      <td>1</td>\n",
       "    </tr>\n",
       "  </tbody>\n",
       "</table>\n",
       "</div>"
      ],
      "text/plain": [
       "         Restaurant Name                                          \n",
       "Category          Bakery Chinese Indian North Indian Others Pizzas\n",
       "Locality                                                          \n",
       "IIT                   12       4      5            3     76      0\n",
       "Lanka                  4       7      3            7    124      3\n",
       "Nadesar               14       5      4            2    106      2\n",
       "Sigra                  6       3     11            2    125      7\n",
       "others                 4       1      2            1    123      1"
      ]
     },
     "execution_count": 184,
     "metadata": {},
     "output_type": "execute_result"
    }
   ],
   "source": [
    "# Grouping Type of restaurants locality wise\n",
    "df3 = sw.groupby(['Locality','Category'])['Restaurant Name'].count()\n",
    "df3.to_csv('Location_category.csv')\n",
    "df3 = pd.read_csv('Location_category.csv')\n",
    "df3 = pd.pivot_table(df3, values=None, index=['Locality'], columns=['Category'], fill_value=0, aggfunc=np.sum)\n",
    "df3"
   ]
  },
  {
   "cell_type": "code",
   "execution_count": 185,
   "id": "cd2be97e",
   "metadata": {},
   "outputs": [
    {
     "data": {
      "text/plain": [
       "<AxesSubplot:xlabel='Locality'>"
      ]
     },
     "execution_count": 185,
     "metadata": {},
     "output_type": "execute_result"
    },
    {
     "data": {
      "image/png": "[encoded data removed]",
      "text/plain": [
       "<Figure size 1080x576 with 1 Axes>"
      ]
     },
     "metadata": {
      "needs_background": "light"
     },
     "output_type": "display_data"
    }
   ],
   "source": [
    "df3.plot(kind='bar', figsize=(15,8))"
   ]
  },
  {
   "cell_type": "code",
   "execution_count": 186,
   "id": "67c416f1",
   "metadata": {},
   "outputs": [
    {
     "data": {
      "text/html": [
       "<div>\n",
       "<style scoped>\n",
       "    .dataframe tbody tr th:only-of-type {\n",
       "        vertical-align: middle;\n",
       "    }\n",
       "\n",
       "    .dataframe tbody tr th {\n",
       "        vertical-align: top;\n",
       "    }\n",
       "\n",
       "    .dataframe thead tr th {\n",
       "        text-align: left;\n",
       "    }\n",
       "\n",
       "    .dataframe thead tr:last-of-type th {\n",
       "        text-align: right;\n",
       "    }\n",
       "</style>\n",
       "<table border=\"1\" class=\"dataframe\">\n",
       "  <thead>\n",
       "    <tr>\n",
       "      <th></th>\n",
       "      <th colspan=\"21\" halign=\"left\">Restaurant Name</th>\n",
       "    </tr>\n",
       "    <tr>\n",
       "      <th>Rating</th>\n",
       "      <th>1.2</th>\n",
       "      <th>1.3</th>\n",
       "      <th>1.9</th>\n",
       "      <th>2.0</th>\n",
       "      <th>2.1</th>\n",
       "      <th>2.2</th>\n",
       "      <th>2.3</th>\n",
       "      <th>2.4</th>\n",
       "      <th>2.5</th>\n",
       "      <th>2.6</th>\n",
       "      <th>...</th>\n",
       "      <th>3.6</th>\n",
       "      <th>3.7</th>\n",
       "      <th>3.8</th>\n",
       "      <th>3.9</th>\n",
       "      <th>4.0</th>\n",
       "      <th>4.1</th>\n",
       "      <th>4.2</th>\n",
       "      <th>4.3</th>\n",
       "      <th>4.4</th>\n",
       "      <th>4.6</th>\n",
       "    </tr>\n",
       "    <tr>\n",
       "      <th>Locality</th>\n",
       "      <th></th>\n",
       "      <th></th>\n",
       "      <th></th>\n",
       "      <th></th>\n",
       "      <th></th>\n",
       "      <th></th>\n",
       "      <th></th>\n",
       "      <th></th>\n",
       "      <th></th>\n",
       "      <th></th>\n",
       "      <th></th>\n",
       "      <th></th>\n",
       "      <th></th>\n",
       "      <th></th>\n",
       "      <th></th>\n",
       "      <th></th>\n",
       "      <th></th>\n",
       "      <th></th>\n",
       "      <th></th>\n",
       "      <th></th>\n",
       "      <th></th>\n",
       "    </tr>\n",
       "  </thead>\n",
       "  <tbody>\n",
       "    <tr>\n",
       "      <th>IIT</th>\n",
       "      <td>1</td>\n",
       "      <td>0</td>\n",
       "      <td>0</td>\n",
       "      <td>0</td>\n",
       "      <td>0</td>\n",
       "      <td>1</td>\n",
       "      <td>1</td>\n",
       "      <td>1</td>\n",
       "      <td>3</td>\n",
       "      <td>1</td>\n",
       "      <td>...</td>\n",
       "      <td>1</td>\n",
       "      <td>75</td>\n",
       "      <td>1</td>\n",
       "      <td>1</td>\n",
       "      <td>4</td>\n",
       "      <td>0</td>\n",
       "      <td>1</td>\n",
       "      <td>0</td>\n",
       "      <td>0</td>\n",
       "      <td>0</td>\n",
       "    </tr>\n",
       "    <tr>\n",
       "      <th>Lanka</th>\n",
       "      <td>0</td>\n",
       "      <td>1</td>\n",
       "      <td>0</td>\n",
       "      <td>0</td>\n",
       "      <td>0</td>\n",
       "      <td>0</td>\n",
       "      <td>1</td>\n",
       "      <td>0</td>\n",
       "      <td>1</td>\n",
       "      <td>0</td>\n",
       "      <td>...</td>\n",
       "      <td>7</td>\n",
       "      <td>104</td>\n",
       "      <td>2</td>\n",
       "      <td>8</td>\n",
       "      <td>6</td>\n",
       "      <td>5</td>\n",
       "      <td>2</td>\n",
       "      <td>2</td>\n",
       "      <td>0</td>\n",
       "      <td>0</td>\n",
       "    </tr>\n",
       "    <tr>\n",
       "      <th>Nadesar</th>\n",
       "      <td>0</td>\n",
       "      <td>0</td>\n",
       "      <td>0</td>\n",
       "      <td>0</td>\n",
       "      <td>1</td>\n",
       "      <td>0</td>\n",
       "      <td>0</td>\n",
       "      <td>0</td>\n",
       "      <td>1</td>\n",
       "      <td>0</td>\n",
       "      <td>...</td>\n",
       "      <td>1</td>\n",
       "      <td>93</td>\n",
       "      <td>5</td>\n",
       "      <td>1</td>\n",
       "      <td>4</td>\n",
       "      <td>5</td>\n",
       "      <td>4</td>\n",
       "      <td>2</td>\n",
       "      <td>2</td>\n",
       "      <td>1</td>\n",
       "    </tr>\n",
       "    <tr>\n",
       "      <th>Sigra</th>\n",
       "      <td>0</td>\n",
       "      <td>0</td>\n",
       "      <td>1</td>\n",
       "      <td>0</td>\n",
       "      <td>0</td>\n",
       "      <td>0</td>\n",
       "      <td>0</td>\n",
       "      <td>0</td>\n",
       "      <td>0</td>\n",
       "      <td>0</td>\n",
       "      <td>...</td>\n",
       "      <td>7</td>\n",
       "      <td>113</td>\n",
       "      <td>4</td>\n",
       "      <td>4</td>\n",
       "      <td>7</td>\n",
       "      <td>3</td>\n",
       "      <td>0</td>\n",
       "      <td>1</td>\n",
       "      <td>0</td>\n",
       "      <td>0</td>\n",
       "    </tr>\n",
       "    <tr>\n",
       "      <th>others</th>\n",
       "      <td>0</td>\n",
       "      <td>0</td>\n",
       "      <td>0</td>\n",
       "      <td>1</td>\n",
       "      <td>0</td>\n",
       "      <td>0</td>\n",
       "      <td>0</td>\n",
       "      <td>1</td>\n",
       "      <td>1</td>\n",
       "      <td>0</td>\n",
       "      <td>...</td>\n",
       "      <td>5</td>\n",
       "      <td>43</td>\n",
       "      <td>11</td>\n",
       "      <td>17</td>\n",
       "      <td>17</td>\n",
       "      <td>8</td>\n",
       "      <td>2</td>\n",
       "      <td>2</td>\n",
       "      <td>5</td>\n",
       "      <td>1</td>\n",
       "    </tr>\n",
       "  </tbody>\n",
       "</table>\n",
       "<p>5 rows × 29 columns</p>\n",
       "</div>"
      ],
      "text/plain": [
       "         Restaurant Name                                      ...           \\\n",
       "Rating               1.2 1.3 1.9 2.0 2.1 2.2 2.3 2.4 2.5 2.6  ... 3.6  3.7   \n",
       "Locality                                                      ...            \n",
       "IIT                    1   0   0   0   0   1   1   1   3   1  ...   1   75   \n",
       "Lanka                  0   1   0   0   0   0   1   0   1   0  ...   7  104   \n",
       "Nadesar                0   0   0   0   1   0   0   0   1   0  ...   1   93   \n",
       "Sigra                  0   0   1   0   0   0   0   0   0   0  ...   7  113   \n",
       "others                 0   0   0   1   0   0   0   1   1   0  ...   5   43   \n",
       "\n",
       "                                          \n",
       "Rating   3.8 3.9 4.0 4.1 4.2 4.3 4.4 4.6  \n",
       "Locality                                  \n",
       "IIT        1   1   4   0   1   0   0   0  \n",
       "Lanka      2   8   6   5   2   2   0   0  \n",
       "Nadesar    5   1   4   5   4   2   2   1  \n",
       "Sigra      4   4   7   3   0   1   0   0  \n",
       "others    11  17  17   8   2   2   5   1  \n",
       "\n",
       "[5 rows x 29 columns]"
      ]
     },
     "execution_count": 186,
     "metadata": {},
     "output_type": "execute_result"
    }
   ],
   "source": [
    "df5 = sw.groupby(['Locality','Rating'])['Restaurant Name'].count()\n",
    "df5.to_csv('location_rating.csv')\n",
    "df5 = pd.read_csv('location_rating.csv')\n",
    "df5 = pd.pivot_table(df5, values=None, index=['Locality'], columns=['Rating'], fill_value=0, aggfunc=np.sum)\n",
    "df5"
   ]
  },
  {
   "cell_type": "code",
   "execution_count": 187,
   "id": "c2e32698",
   "metadata": {},
   "outputs": [
    {
     "data": {
      "text/plain": [
       "<AxesSubplot:xlabel='Locality'>"
      ]
     },
     "execution_count": 187,
     "metadata": {},
     "output_type": "execute_result"
    },
    {
     "data": {
      "image/png": "[encoded data removed]",
      "text/plain": [
       "<Figure size 1800x720 with 1 Axes>"
      ]
     },
     "metadata": {
      "needs_background": "light"
     },
     "output_type": "display_data"
    }
   ],
   "source": [
    "df5.plot(kind='bar', figsize=(25,10))"
   ]
  },
  {
   "cell_type": "markdown",
   "id": "24c7bfaf",
   "metadata": {},
   "source": [
    "# Conclusion"
   ]
  },
  {
   "cell_type": "markdown",
   "id": "2ee23440",
   "metadata": {},
   "source": [
    "* We infer that that number of Vegetarian Restaurants in any Locality are much lesser than number of restaurants offering Non-veg. \n",
    "* In all the localities, restaurants delivering long distance are few compared to those delivering long distance.\n",
    "* There is no place near IIT that offers only pizzas. So, if a person wants to open a restaurant near IIT, they can consider opening only pizza restaurant."
   ]
  },
  {
   "cell_type": "code",
   "execution_count": null,
   "id": "9f96aecd",
   "metadata": {},
   "outputs": [],
   "source": []
  }
 ],
 "metadata": {
  "kernelspec": {
   "display_name": "Python 3",
   "language": "python",
   "name": "python3"
  },
  "language_info": {
   "codemirror_mode": {
    "name": "ipython",
    "version": 3
   },
   "file_extension": ".py",
   "mimetype": "text/x-python",
   "name": "python",
   "nbconvert_exporter": "python",
   "pygments_lexer": "ipython3",
   "version": "3.8.8"
  }
 },
 "nbformat": 4,
 "nbformat_minor": 5
}
