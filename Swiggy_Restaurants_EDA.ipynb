{
 "cells": [
  {
   "cell_type": "markdown",
   "id": "32b349df",
   "metadata": {},
   "source": [
    "# Exploratory Data Analysis on Swiggy Varanasi Restaurants Dataset"
   ]
  },
  {
   "cell_type": "markdown",
   "id": "d6cb6aea",
   "metadata": {},
   "source": [
    "Download dataset here - https://www.kaggle.com/datasets/chinmayshanbhag/swiggy-varanasi-restaurants"
   ]
  },
  {
   "cell_type": "markdown",
   "id": "bb571789",
   "metadata": {},
   "source": [
    "**Importing the Libraries**"
   ]
  },
  {
   "cell_type": "code",
   "execution_count": 1,
   "id": "ff3c7cb8",
   "metadata": {},
   "outputs": [],
   "source": [
    "import pandas as pd\n",
    "import numpy as np\n",
    "import matplotlib.pyplot as plt\n",
    "import seaborn as sns\n",
    "import warnings\n",
    "warnings.filterwarnings('ignore')"
   ]
  },
  {
   "cell_type": "markdown",
   "id": "2bd4419f",
   "metadata": {},
   "source": [
    "**Importing the dataset**"
   ]
  },
  {
   "cell_type": "code",
   "execution_count": 2,
   "id": "ed60c4ef",
   "metadata": {},
   "outputs": [
    {
     "data": {
      "text/html": [
       "<div>\n",
       "<style scoped>\n",
       "    .dataframe tbody tr th:only-of-type {\n",
       "        vertical-align: middle;\n",
       "    }\n",
       "\n",
       "    .dataframe tbody tr th {\n",
       "        vertical-align: top;\n",
       "    }\n",
       "\n",
       "    .dataframe thead th {\n",
       "        text-align: right;\n",
       "    }\n",
       "</style>\n",
       "<table border=\"1\" class=\"dataframe\">\n",
       "  <thead>\n",
       "    <tr style=\"text-align: right;\">\n",
       "      <th></th>\n",
       "      <th>Restaurant Name</th>\n",
       "      <th>Category</th>\n",
       "      <th>Rating</th>\n",
       "      <th>Cost for two</th>\n",
       "      <th>Area</th>\n",
       "      <th>Locality</th>\n",
       "      <th>Address</th>\n",
       "      <th>Veg</th>\n",
       "      <th>Long Distance Delivery</th>\n",
       "    </tr>\n",
       "  </thead>\n",
       "  <tbody>\n",
       "    <tr>\n",
       "      <th>0</th>\n",
       "      <td>Singh's Delight Restaurant(Sunderpur)</td>\n",
       "      <td>North Indian,Biryani,Mughlai,Chinese</td>\n",
       "      <td>3.8</td>\n",
       "      <td>350</td>\n",
       "      <td>Nagwa</td>\n",
       "      <td>Sunderpur</td>\n",
       "      <td>1st Floor , Near Life Line Hospital, Brij Encl...</td>\n",
       "      <td>False</td>\n",
       "      <td>0</td>\n",
       "    </tr>\n",
       "    <tr>\n",
       "      <th>1</th>\n",
       "      <td>Burger King</td>\n",
       "      <td>American,Fast Food</td>\n",
       "      <td>4.1</td>\n",
       "      <td>350</td>\n",
       "      <td>Sigra</td>\n",
       "      <td>Shastri Nagar</td>\n",
       "      <td>Ground Floor and First Floor,Tulsi Complex,C-1...</td>\n",
       "      <td>False</td>\n",
       "      <td>0</td>\n",
       "    </tr>\n",
       "    <tr>\n",
       "      <th>2</th>\n",
       "      <td>McDonald's</td>\n",
       "      <td>American</td>\n",
       "      <td>4.0</td>\n",
       "      <td>400</td>\n",
       "      <td>Varanasi Cantonment</td>\n",
       "      <td>JHV Mall</td>\n",
       "      <td>UP Varanasi JHV Mall,  Shop No. 19-21/G, JHV M...</td>\n",
       "      <td>False</td>\n",
       "      <td>0</td>\n",
       "    </tr>\n",
       "    <tr>\n",
       "      <th>3</th>\n",
       "      <td>Aman E Khas</td>\n",
       "      <td>Mughlai,Biryani,North Indian,Chinese</td>\n",
       "      <td>3.9</td>\n",
       "      <td>350</td>\n",
       "      <td>Bhelupur</td>\n",
       "      <td>Bhelupur</td>\n",
       "      <td>Boradway Hotel, Near IP Vijay Mall, Bhelupur, ...</td>\n",
       "      <td>False</td>\n",
       "      <td>0</td>\n",
       "    </tr>\n",
       "    <tr>\n",
       "      <th>4</th>\n",
       "      <td>Mahadev momo and coffee corner</td>\n",
       "      <td>Chinese</td>\n",
       "      <td>NaN</td>\n",
       "      <td>200</td>\n",
       "      <td>Sigra</td>\n",
       "      <td>Sigra</td>\n",
       "      <td>C28/141-k-p, teliyabagh, varanasi nagar nigam ...</td>\n",
       "      <td>False</td>\n",
       "      <td>0</td>\n",
       "    </tr>\n",
       "  </tbody>\n",
       "</table>\n",
       "</div>"
      ],
      "text/plain": [
       "                         Restaurant Name  \\\n",
       "0  Singh's Delight Restaurant(Sunderpur)   \n",
       "1                            Burger King   \n",
       "2                             McDonald's   \n",
       "3                            Aman E Khas   \n",
       "4         Mahadev momo and coffee corner   \n",
       "\n",
       "                               Category  Rating  Cost for two  \\\n",
       "0  North Indian,Biryani,Mughlai,Chinese     3.8           350   \n",
       "1                    American,Fast Food     4.1           350   \n",
       "2                              American     4.0           400   \n",
       "3  Mughlai,Biryani,North Indian,Chinese     3.9           350   \n",
       "4                               Chinese     NaN           200   \n",
       "\n",
       "                  Area       Locality  \\\n",
       "0                Nagwa      Sunderpur   \n",
       "1                Sigra  Shastri Nagar   \n",
       "2  Varanasi Cantonment       JHV Mall   \n",
       "3             Bhelupur       Bhelupur   \n",
       "4                Sigra          Sigra   \n",
       "\n",
       "                                             Address    Veg  \\\n",
       "0  1st Floor , Near Life Line Hospital, Brij Encl...  False   \n",
       "1  Ground Floor and First Floor,Tulsi Complex,C-1...  False   \n",
       "2  UP Varanasi JHV Mall,  Shop No. 19-21/G, JHV M...  False   \n",
       "3  Boradway Hotel, Near IP Vijay Mall, Bhelupur, ...  False   \n",
       "4  C28/141-k-p, teliyabagh, varanasi nagar nigam ...  False   \n",
       "\n",
       "   Long Distance Delivery  \n",
       "0                       0  \n",
       "1                       0  \n",
       "2                       0  \n",
       "3                       0  \n",
       "4                       0  "
      ]
     },
     "execution_count": 2,
     "metadata": {},
     "output_type": "execute_result"
    }
   ],
   "source": [
    "swiggy_vns = pd.read_csv('Swiggy_Varanasi.csv')\n",
    "swiggy_vns.head()"
   ]
  },
  {
   "cell_type": "markdown",
   "id": "acb6adab-80ef-4159-8992-61df9209360e",
   "metadata": {},
   "source": [
    "# Information on Data "
   ]
  },
  {
   "cell_type": "code",
   "execution_count": 3,
   "id": "0fdba73e",
   "metadata": {},
   "outputs": [
    {
     "data": {
      "text/plain": [
       "(667, 9)"
      ]
     },
     "execution_count": 3,
     "metadata": {},
     "output_type": "execute_result"
    }
   ],
   "source": [
    "swiggy_vns.shape"
   ]
  },
  {
   "cell_type": "code",
   "execution_count": 4,
   "id": "8544d37b",
   "metadata": {},
   "outputs": [
    {
     "data": {
      "text/plain": [
       "Index(['Restaurant Name', 'Category', 'Rating', 'Cost for two', 'Area',\n",
       "       'Locality', 'Address', 'Veg', 'Long Distance Delivery'],\n",
       "      dtype='object')"
      ]
     },
     "execution_count": 4,
     "metadata": {},
     "output_type": "execute_result"
    }
   ],
   "source": [
    "swiggy_vns.columns"
   ]
  },
  {
   "cell_type": "markdown",
   "id": "c8f440d3",
   "metadata": {},
   "source": [
    "**Summary statistics of the dataset**"
   ]
  },
  {
   "cell_type": "code",
   "execution_count": 5,
   "id": "cd121544",
   "metadata": {},
   "outputs": [
    {
     "name": "stdout",
     "output_type": "stream",
     "text": [
      "<class 'pandas.core.frame.DataFrame'>\n",
      "RangeIndex: 667 entries, 0 to 666\n",
      "Data columns (total 9 columns):\n",
      " #   Column                  Non-Null Count  Dtype  \n",
      "---  ------                  --------------  -----  \n",
      " 0   Restaurant Name         667 non-null    object \n",
      " 1   Category                667 non-null    object \n",
      " 2   Rating                  269 non-null    float64\n",
      " 3   Cost for two            667 non-null    int64  \n",
      " 4   Area                    667 non-null    object \n",
      " 5   Locality                667 non-null    object \n",
      " 6   Address                 667 non-null    object \n",
      " 7   Veg                     667 non-null    bool   \n",
      " 8   Long Distance Delivery  667 non-null    int64  \n",
      "dtypes: bool(1), float64(1), int64(2), object(5)\n",
      "memory usage: 42.5+ KB\n"
     ]
    }
   ],
   "source": [
    "swiggy_vns.info()"
   ]
  },
  {
   "cell_type": "code",
   "execution_count": 6,
   "id": "759bd62a",
   "metadata": {},
   "outputs": [
    {
     "data": {
      "text/html": [
       "<div>\n",
       "<style scoped>\n",
       "    .dataframe tbody tr th:only-of-type {\n",
       "        vertical-align: middle;\n",
       "    }\n",
       "\n",
       "    .dataframe tbody tr th {\n",
       "        vertical-align: top;\n",
       "    }\n",
       "\n",
       "    .dataframe thead th {\n",
       "        text-align: right;\n",
       "    }\n",
       "</style>\n",
       "<table border=\"1\" class=\"dataframe\">\n",
       "  <thead>\n",
       "    <tr style=\"text-align: right;\">\n",
       "      <th></th>\n",
       "      <th>Rating</th>\n",
       "      <th>Cost for two</th>\n",
       "      <th>Long Distance Delivery</th>\n",
       "    </tr>\n",
       "  </thead>\n",
       "  <tbody>\n",
       "    <tr>\n",
       "      <th>count</th>\n",
       "      <td>269.000000</td>\n",
       "      <td>667.000000</td>\n",
       "      <td>667.000000</td>\n",
       "    </tr>\n",
       "    <tr>\n",
       "      <th>mean</th>\n",
       "      <td>3.658364</td>\n",
       "      <td>287.698651</td>\n",
       "      <td>0.226387</td>\n",
       "    </tr>\n",
       "    <tr>\n",
       "      <th>std</th>\n",
       "      <td>0.525306</td>\n",
       "      <td>124.776259</td>\n",
       "      <td>0.418806</td>\n",
       "    </tr>\n",
       "    <tr>\n",
       "      <th>min</th>\n",
       "      <td>1.200000</td>\n",
       "      <td>2.000000</td>\n",
       "      <td>0.000000</td>\n",
       "    </tr>\n",
       "    <tr>\n",
       "      <th>25%</th>\n",
       "      <td>3.500000</td>\n",
       "      <td>200.000000</td>\n",
       "      <td>0.000000</td>\n",
       "    </tr>\n",
       "    <tr>\n",
       "      <th>50%</th>\n",
       "      <td>3.800000</td>\n",
       "      <td>250.000000</td>\n",
       "      <td>0.000000</td>\n",
       "    </tr>\n",
       "    <tr>\n",
       "      <th>75%</th>\n",
       "      <td>4.000000</td>\n",
       "      <td>350.000000</td>\n",
       "      <td>0.000000</td>\n",
       "    </tr>\n",
       "    <tr>\n",
       "      <th>max</th>\n",
       "      <td>4.600000</td>\n",
       "      <td>1400.000000</td>\n",
       "      <td>1.000000</td>\n",
       "    </tr>\n",
       "  </tbody>\n",
       "</table>\n",
       "</div>"
      ],
      "text/plain": [
       "           Rating  Cost for two  Long Distance Delivery\n",
       "count  269.000000    667.000000              667.000000\n",
       "mean     3.658364    287.698651                0.226387\n",
       "std      0.525306    124.776259                0.418806\n",
       "min      1.200000      2.000000                0.000000\n",
       "25%      3.500000    200.000000                0.000000\n",
       "50%      3.800000    250.000000                0.000000\n",
       "75%      4.000000    350.000000                0.000000\n",
       "max      4.600000   1400.000000                1.000000"
      ]
     },
     "execution_count": 6,
     "metadata": {},
     "output_type": "execute_result"
    }
   ],
   "source": [
    "# We can see that the Rating column has most amount of missing values\n",
    "# Next we look at description of the dataset\n",
    "swiggy_vns.describe()"
   ]
  },
  {
   "cell_type": "markdown",
   "id": "f462d7e7",
   "metadata": {},
   "source": [
    "So, from above, we can see that the average cost for two people in any restaurant is atleast 288 rupees."
   ]
  },
  {
   "cell_type": "code",
   "execution_count": 7,
   "id": "4055171e",
   "metadata": {},
   "outputs": [
    {
     "data": {
      "text/plain": [
       "False"
      ]
     },
     "execution_count": 7,
     "metadata": {},
     "output_type": "execute_result"
    }
   ],
   "source": [
    "# Let's check for any duplicated values\n",
    "swiggy_vns.duplicated().any()"
   ]
  },
  {
   "cell_type": "code",
   "execution_count": 8,
   "id": "f3aa1c83",
   "metadata": {},
   "outputs": [
    {
     "data": {
      "text/plain": [
       "Restaurant Name             0\n",
       "Category                    0\n",
       "Rating                    398\n",
       "Cost for two                0\n",
       "Area                        0\n",
       "Locality                    0\n",
       "Address                     0\n",
       "Veg                         0\n",
       "Long Distance Delivery      0\n",
       "dtype: int64"
      ]
     },
     "execution_count": 8,
     "metadata": {},
     "output_type": "execute_result"
    }
   ],
   "source": [
    "# Checking for missing values\n",
    "swiggy_vns.isnull().sum()"
   ]
  },
  {
   "cell_type": "code",
   "execution_count": 9,
   "id": "3b32be20",
   "metadata": {},
   "outputs": [],
   "source": [
    "# We will fill the missing values in 'Rating' column with mean rating\n",
    "swiggy_vns['Rating'].fillna(swiggy_vns['Rating'].mean(),inplace=True)"
   ]
  },
  {
   "cell_type": "code",
   "execution_count": 10,
   "id": "6ce3dc55",
   "metadata": {},
   "outputs": [
    {
     "data": {
      "text/plain": [
       "0"
      ]
     },
     "execution_count": 10,
     "metadata": {},
     "output_type": "execute_result"
    }
   ],
   "source": [
    "swiggy_vns.Rating.isnull().sum()"
   ]
  },
  {
   "cell_type": "code",
   "execution_count": 11,
   "id": "084ba961",
   "metadata": {},
   "outputs": [
    {
     "data": {
      "text/html": [
       "<div>\n",
       "<style scoped>\n",
       "    .dataframe tbody tr th:only-of-type {\n",
       "        vertical-align: middle;\n",
       "    }\n",
       "\n",
       "    .dataframe tbody tr th {\n",
       "        vertical-align: top;\n",
       "    }\n",
       "\n",
       "    .dataframe thead th {\n",
       "        text-align: right;\n",
       "    }\n",
       "</style>\n",
       "<table border=\"1\" class=\"dataframe\">\n",
       "  <thead>\n",
       "    <tr style=\"text-align: right;\">\n",
       "      <th></th>\n",
       "      <th>Restaurant Name</th>\n",
       "      <th>Category</th>\n",
       "      <th>Rating</th>\n",
       "      <th>Cost for two</th>\n",
       "      <th>Locality</th>\n",
       "      <th>Veg</th>\n",
       "      <th>Long Distance Delivery</th>\n",
       "    </tr>\n",
       "  </thead>\n",
       "  <tbody>\n",
       "    <tr>\n",
       "      <th>0</th>\n",
       "      <td>Singh's Delight Restaurant(Sunderpur)</td>\n",
       "      <td>North Indian,Biryani,Mughlai,Chinese</td>\n",
       "      <td>3.800000</td>\n",
       "      <td>350</td>\n",
       "      <td>Sunderpur</td>\n",
       "      <td>False</td>\n",
       "      <td>0</td>\n",
       "    </tr>\n",
       "    <tr>\n",
       "      <th>1</th>\n",
       "      <td>Burger King</td>\n",
       "      <td>American,Fast Food</td>\n",
       "      <td>4.100000</td>\n",
       "      <td>350</td>\n",
       "      <td>Shastri Nagar</td>\n",
       "      <td>False</td>\n",
       "      <td>0</td>\n",
       "    </tr>\n",
       "    <tr>\n",
       "      <th>2</th>\n",
       "      <td>McDonald's</td>\n",
       "      <td>American</td>\n",
       "      <td>4.000000</td>\n",
       "      <td>400</td>\n",
       "      <td>JHV Mall</td>\n",
       "      <td>False</td>\n",
       "      <td>0</td>\n",
       "    </tr>\n",
       "    <tr>\n",
       "      <th>3</th>\n",
       "      <td>Aman E Khas</td>\n",
       "      <td>Mughlai,Biryani,North Indian,Chinese</td>\n",
       "      <td>3.900000</td>\n",
       "      <td>350</td>\n",
       "      <td>Bhelupur</td>\n",
       "      <td>False</td>\n",
       "      <td>0</td>\n",
       "    </tr>\n",
       "    <tr>\n",
       "      <th>4</th>\n",
       "      <td>Mahadev momo and coffee corner</td>\n",
       "      <td>Chinese</td>\n",
       "      <td>3.658364</td>\n",
       "      <td>200</td>\n",
       "      <td>Sigra</td>\n",
       "      <td>False</td>\n",
       "      <td>0</td>\n",
       "    </tr>\n",
       "  </tbody>\n",
       "</table>\n",
       "</div>"
      ],
      "text/plain": [
       "                         Restaurant Name  \\\n",
       "0  Singh's Delight Restaurant(Sunderpur)   \n",
       "1                            Burger King   \n",
       "2                             McDonald's   \n",
       "3                            Aman E Khas   \n",
       "4         Mahadev momo and coffee corner   \n",
       "\n",
       "                               Category    Rating  Cost for two  \\\n",
       "0  North Indian,Biryani,Mughlai,Chinese  3.800000           350   \n",
       "1                    American,Fast Food  4.100000           350   \n",
       "2                              American  4.000000           400   \n",
       "3  Mughlai,Biryani,North Indian,Chinese  3.900000           350   \n",
       "4                               Chinese  3.658364           200   \n",
       "\n",
       "        Locality    Veg  Long Distance Delivery  \n",
       "0      Sunderpur  False                       0  \n",
       "1  Shastri Nagar  False                       0  \n",
       "2       JHV Mall  False                       0  \n",
       "3       Bhelupur  False                       0  \n",
       "4          Sigra  False                       0  "
      ]
     },
     "execution_count": 11,
     "metadata": {},
     "output_type": "execute_result"
    }
   ],
   "source": [
    "## Drop all unnecessary columns\n",
    "swiggy_vns.drop(['Address','Area'],axis=1,inplace=True)\n",
    "swiggy_vns.head()"
   ]
  },
  {
   "cell_type": "code",
   "execution_count": 27,
   "id": "0082c93d",
   "metadata": {},
   "outputs": [
    {
     "data": {
      "text/html": [
       "<div>\n",
       "<style scoped>\n",
       "    .dataframe tbody tr th:only-of-type {\n",
       "        vertical-align: middle;\n",
       "    }\n",
       "\n",
       "    .dataframe tbody tr th {\n",
       "        vertical-align: top;\n",
       "    }\n",
       "\n",
       "    .dataframe thead th {\n",
       "        text-align: right;\n",
       "    }\n",
       "</style>\n",
       "<table border=\"1\" class=\"dataframe\">\n",
       "  <thead>\n",
       "    <tr style=\"text-align: right;\">\n",
       "      <th></th>\n",
       "      <th>Restaurant Name</th>\n",
       "      <th>Category</th>\n",
       "      <th>Rating</th>\n",
       "      <th>Cost for two</th>\n",
       "      <th>Locality</th>\n",
       "      <th>Veg</th>\n",
       "      <th>Long Distance Delivery</th>\n",
       "    </tr>\n",
       "  </thead>\n",
       "  <tbody>\n",
       "    <tr>\n",
       "      <th>0</th>\n",
       "      <td>Singh's Delight Restaurant(Sunderpur)</td>\n",
       "      <td>Others</td>\n",
       "      <td>3.800000</td>\n",
       "      <td>350</td>\n",
       "      <td>others</td>\n",
       "      <td>False</td>\n",
       "      <td>No</td>\n",
       "    </tr>\n",
       "    <tr>\n",
       "      <th>1</th>\n",
       "      <td>Burger King</td>\n",
       "      <td>Others</td>\n",
       "      <td>4.100000</td>\n",
       "      <td>350</td>\n",
       "      <td>others</td>\n",
       "      <td>False</td>\n",
       "      <td>No</td>\n",
       "    </tr>\n",
       "    <tr>\n",
       "      <th>2</th>\n",
       "      <td>McDonald's</td>\n",
       "      <td>Others</td>\n",
       "      <td>4.000000</td>\n",
       "      <td>400</td>\n",
       "      <td>others</td>\n",
       "      <td>False</td>\n",
       "      <td>No</td>\n",
       "    </tr>\n",
       "    <tr>\n",
       "      <th>3</th>\n",
       "      <td>Aman E Khas</td>\n",
       "      <td>Others</td>\n",
       "      <td>3.900000</td>\n",
       "      <td>350</td>\n",
       "      <td>Bhelupur</td>\n",
       "      <td>False</td>\n",
       "      <td>No</td>\n",
       "    </tr>\n",
       "    <tr>\n",
       "      <th>4</th>\n",
       "      <td>Mahadev momo and coffee corner</td>\n",
       "      <td>Chinese</td>\n",
       "      <td>3.658364</td>\n",
       "      <td>200</td>\n",
       "      <td>Sigra</td>\n",
       "      <td>False</td>\n",
       "      <td>No</td>\n",
       "    </tr>\n",
       "  </tbody>\n",
       "</table>\n",
       "</div>"
      ],
      "text/plain": [
       "                         Restaurant Name Category    Rating  Cost for two  \\\n",
       "0  Singh's Delight Restaurant(Sunderpur)   Others  3.800000           350   \n",
       "1                            Burger King   Others  4.100000           350   \n",
       "2                             McDonald's   Others  4.000000           400   \n",
       "3                            Aman E Khas   Others  3.900000           350   \n",
       "4         Mahadev momo and coffee corner  Chinese  3.658364           200   \n",
       "\n",
       "   Locality    Veg Long Distance Delivery  \n",
       "0    others  False                     No  \n",
       "1    others  False                     No  \n",
       "2    others  False                     No  \n",
       "3  Bhelupur  False                     No  \n",
       "4     Sigra  False                     No  "
      ]
     },
     "execution_count": 27,
     "metadata": {},
     "output_type": "execute_result"
    }
   ],
   "source": [
    "swiggy_vns.head()"
   ]
  },
  {
   "cell_type": "code",
   "execution_count": 14,
   "id": "b10d1e29",
   "metadata": {
    "collapsed": true,
    "jupyter": {
     "outputs_hidden": true
    },
    "tags": []
   },
   "outputs": [
    {
     "data": {
      "text/plain": [
       "array(['Sunderpur', 'Shastri Nagar', 'JHV Mall', 'Bhelupur', 'Sigra',\n",
       "       'Rathyatra', 'Nadesar', 'Mahmoorganj', 'Lanka', 'Varanasi',\n",
       "       'Chetganj', 'Durgakund', 'Celestial Building', 'sigra',\n",
       "       'Sigra Mahmoorganj Rd', 'IIT', 'Chhawani Cantonment',\n",
       "       'Dr. Anand Xray and ultrasound', 'Ramkatora', 'JHV MALL VARANASI',\n",
       "       'Pandeypur, Varanasi', 'OPP TRUE VALUE SHOP', 'Kasturba Nagar',\n",
       "       'Ashapur', 'Lohta road', 'luxa', 'Golghar, Nadeshar',\n",
       "       'mahmoorganj', 'Kachahari', 'Kakarmatta', 'Bhojuveer', 'pandeypur',\n",
       "       'sigra varanasi', 'Pandeypur', 'New colony kakarmatta, sunderpur',\n",
       "       'Godowlia', 'Bhelupur Varanasi', 'Bansphatak',\n",
       "       'luxa,Ramapura ,Varanasi', 'Kachahri', 'Sarainandan Khojwan',\n",
       "       'Kanchanpur', 'bhojubeer', 'Near I P Vijay Mall', 'Orderly Bazaar',\n",
       "       'Nevada Sundarpur', 'Jivan nagar collony, Bajardiha',\n",
       "       'Near Kal bhairo temple', 'PANDEYPUR', 'karudi', 'Pahariya',\n",
       "       'lanka', 'Lanka, BHU Road', 'Malviya Kunj, lanka', 'Babatpur',\n",
       "       'Sarnath', 'Lanka Varanasi', 'Bada Lalpur,  Chandmari',\n",
       "       'Naranpur dafi'], dtype=object)"
      ]
     },
     "execution_count": 14,
     "metadata": {},
     "output_type": "execute_result"
    }
   ],
   "source": [
    "swiggy_vns['Locality'].unique()"
   ]
  },
  {
   "cell_type": "markdown",
   "id": "34fbdb11-87fe-4e80-84eb-6602bd5cd782",
   "metadata": {},
   "source": [
    "Since many of the localities are same but written in capital or small, we will first change them to a single format"
   ]
  },
  {
   "cell_type": "code",
   "execution_count": 22,
   "id": "fcae05e2-9841-4cee-9ff4-68adb22bd256",
   "metadata": {
    "tags": []
   },
   "outputs": [
    {
     "data": {
      "text/plain": [
       "Sigra                             161\n",
       "Lanka                             152\n",
       "Nadesar                           134\n",
       "IIT                               100\n",
       "Bhelupur                           24\n",
       "Mahmoorganj                        21\n",
       "Chetganj                           12\n",
       "Pandeypur                           8\n",
       "Ashapur                             7\n",
       "Godowlia                            6\n",
       "Bhojuveer                           5\n",
       "Sunderpur                           5\n",
       "JHV Mall                            3\n",
       "Durgakund                           2\n",
       "Babatpur                            2\n",
       "Varanasi                            2\n",
       "Luxa                                2\n",
       "Kachahari                           2\n",
       "Kanchanpur                          1\n",
       "Pahariya                            1\n",
       "karudi                              1\n",
       "Near Kal bhairo temple              1\n",
       "Bada Lalpur,  Chandmari             1\n",
       "Jivan nagar collony, Bajardiha      1\n",
       "Orderly Bazaar                      1\n",
       "Sarnath                             1\n",
       "Kasturba Nagar                      1\n",
       "Sarainandan Khojwan                 1\n",
       "Kakarmatta                          1\n",
       "Lohta road                          1\n",
       "Shastri Nagar                       1\n",
       "OPP TRUE VALUE SHOP                 1\n",
       "Ramkatora                           1\n",
       "Dr. Anand Xray and ultrasound       1\n",
       "Chhawani Cantonment                 1\n",
       "Rathyatra                           1\n",
       "Naranpur dafi                       1\n",
       "Name: Locality, dtype: int64"
      ]
     },
     "execution_count": 22,
     "metadata": {},
     "output_type": "execute_result"
    }
   ],
   "source": [
    "# construct a dataframe with keys as the correct word and values as the different words similar to the key\n",
    "swiggy_vns['Locality'] = swiggy_vns['Locality'].replace(['Nevada Sundarpur',\n",
    "                                                         'New colony kakarmatta, sunderpur'],'Sunderpur')\n",
    "swiggy_vns['Locality'] = swiggy_vns['Locality'].replace(['JHV MALL VARANASI'],'JHV Mall')\n",
    "swiggy_vns['Locality'] = swiggy_vns['Locality'].replace(['Bhelupur Varanasi'],'Bhelupur')\n",
    "swiggy_vns['Locality'] = swiggy_vns['Locality'].replace(['mahmoorganj'],'Mahmoorganj')\n",
    "swiggy_vns['Locality'] = swiggy_vns['Locality'].replace(['sigra','Sigra Mahmoorganj Rd','Celestial Building',\n",
    "                                                         'sigra varanasi','Near I P Vijay Mall'],'Sigra')\n",
    "swiggy_vns['Locality'] = swiggy_vns['Locality'].replace(['Kachahri'],'Kachahari')\n",
    "swiggy_vns['Locality'] = swiggy_vns['Locality'].replace(['bhojubeer'],'Bhojuveer')\n",
    "swiggy_vns['Locality'] = swiggy_vns['Locality'].replace(['PANDEYPUR','pandeypur','Pandeypur, Varanasi'],'Pandeypur')\n",
    "swiggy_vns['Locality'] = swiggy_vns['Locality'].replace(['luxa','luxa,Ramapura ,Varanasi'],'Luxa')\n",
    "swiggy_vns['Locality'] = swiggy_vns['Locality'].replace(['lanka', 'Lanka, BHU Road', \n",
    "                                                         'Malviya Kunj, lanka', 'Lanka Varanasi'],'Lanka')\n",
    "swiggy_vns['Locality'] = swiggy_vns['Locality'].replace(['Golghar, Nadeshar'],'Nadesar')\n",
    "swiggy_vns['Locality'] = swiggy_vns['Locality'].replace(['Bansphatak'],'Godowlia')\n",
    "swiggy_vns['Locality'].value_counts()"
   ]
  },
  {
   "cell_type": "code",
   "execution_count": 24,
   "id": "c9d3327a",
   "metadata": {},
   "outputs": [
    {
     "data": {
      "text/plain": [
       "Sigra          161\n",
       "Lanka          152\n",
       "Nadesar        134\n",
       "IIT            100\n",
       "others          63\n",
       "Bhelupur        24\n",
       "Mahmoorganj     21\n",
       "Chetganj        12\n",
       "Name: Locality, dtype: int64"
      ]
     },
     "execution_count": 24,
     "metadata": {},
     "output_type": "execute_result"
    }
   ],
   "source": [
    "# Since there are many localities having less than 10 restaurants, \n",
    "# so we will group them as 'others'\n",
    "Locality = swiggy_vns['Locality'].value_counts(ascending = True)\n",
    "\n",
    "locality_lessthanten = Locality[Locality<10]\n",
    "\n",
    "def handle_locality(value):\n",
    "    if(value in locality_lessthanten):\n",
    "        return 'others'\n",
    "    else:\n",
    "        return value\n",
    "\n",
    "swiggy_vns['Locality'] = swiggy_vns['Locality'].apply(handle_locality)\n",
    "swiggy_vns['Locality'].value_counts()"
   ]
  },
  {
   "cell_type": "code",
   "execution_count": 25,
   "id": "e8af4d21",
   "metadata": {},
   "outputs": [
    {
     "data": {
      "text/plain": [
       "Others          554\n",
       "Bakery           40\n",
       "Indian           25\n",
       "Chinese          20\n",
       "North Indian     15\n",
       "Pizzas           13\n",
       "Name: Category, dtype: int64"
      ]
     },
     "execution_count": 25,
     "metadata": {},
     "output_type": "execute_result"
    }
   ],
   "source": [
    "Category = swiggy_vns['Category'].value_counts()\n",
    "\n",
    "Category_lessthan10 = Category[Category<=10]\n",
    "\n",
    "def handle_category(value):\n",
    "    if(value in Category_lessthan10):\n",
    "        return 'Others'\n",
    "    else:\n",
    "        return value\n",
    "    \n",
    "swiggy_vns['Category'] = swiggy_vns['Category'].apply(handle_category)\n",
    "swiggy_vns['Category'].value_counts()"
   ]
  },
  {
   "cell_type": "code",
   "execution_count": 56,
   "id": "f3cb265d-183c-4cc9-bf57-90f2f056bb34",
   "metadata": {},
   "outputs": [
    {
     "data": {
      "text/html": [
       "<div>\n",
       "<style scoped>\n",
       "    .dataframe tbody tr th:only-of-type {\n",
       "        vertical-align: middle;\n",
       "    }\n",
       "\n",
       "    .dataframe tbody tr th {\n",
       "        vertical-align: top;\n",
       "    }\n",
       "\n",
       "    .dataframe thead th {\n",
       "        text-align: right;\n",
       "    }\n",
       "</style>\n",
       "<table border=\"1\" class=\"dataframe\">\n",
       "  <thead>\n",
       "    <tr style=\"text-align: right;\">\n",
       "      <th></th>\n",
       "      <th>Restaurant Name</th>\n",
       "      <th>Category</th>\n",
       "      <th>Rating</th>\n",
       "      <th>Cost for two</th>\n",
       "      <th>Locality</th>\n",
       "      <th>Veg</th>\n",
       "      <th>Long Distance Delivery</th>\n",
       "    </tr>\n",
       "  </thead>\n",
       "  <tbody>\n",
       "    <tr>\n",
       "      <th>0</th>\n",
       "      <td>Singh's Delight Restaurant(Sunderpur)</td>\n",
       "      <td>Others</td>\n",
       "      <td>3.800000</td>\n",
       "      <td>350</td>\n",
       "      <td>others</td>\n",
       "      <td>False</td>\n",
       "      <td>No</td>\n",
       "    </tr>\n",
       "    <tr>\n",
       "      <th>1</th>\n",
       "      <td>Burger King</td>\n",
       "      <td>Others</td>\n",
       "      <td>4.100000</td>\n",
       "      <td>350</td>\n",
       "      <td>others</td>\n",
       "      <td>False</td>\n",
       "      <td>No</td>\n",
       "    </tr>\n",
       "    <tr>\n",
       "      <th>2</th>\n",
       "      <td>McDonald's</td>\n",
       "      <td>Others</td>\n",
       "      <td>4.000000</td>\n",
       "      <td>400</td>\n",
       "      <td>others</td>\n",
       "      <td>False</td>\n",
       "      <td>No</td>\n",
       "    </tr>\n",
       "    <tr>\n",
       "      <th>3</th>\n",
       "      <td>Aman E Khas</td>\n",
       "      <td>Others</td>\n",
       "      <td>3.900000</td>\n",
       "      <td>350</td>\n",
       "      <td>Bhelupur</td>\n",
       "      <td>False</td>\n",
       "      <td>No</td>\n",
       "    </tr>\n",
       "    <tr>\n",
       "      <th>4</th>\n",
       "      <td>Mahadev momo and coffee corner</td>\n",
       "      <td>Chinese</td>\n",
       "      <td>3.658364</td>\n",
       "      <td>200</td>\n",
       "      <td>Sigra</td>\n",
       "      <td>False</td>\n",
       "      <td>No</td>\n",
       "    </tr>\n",
       "    <tr>\n",
       "      <th>...</th>\n",
       "      <td>...</td>\n",
       "      <td>...</td>\n",
       "      <td>...</td>\n",
       "      <td>...</td>\n",
       "      <td>...</td>\n",
       "      <td>...</td>\n",
       "      <td>...</td>\n",
       "    </tr>\n",
       "    <tr>\n",
       "      <th>662</th>\n",
       "      <td>The Star Bakery</td>\n",
       "      <td>Bakery</td>\n",
       "      <td>3.658364</td>\n",
       "      <td>200</td>\n",
       "      <td>IIT</td>\n",
       "      <td>True</td>\n",
       "      <td>Yes</td>\n",
       "    </tr>\n",
       "    <tr>\n",
       "      <th>663</th>\n",
       "      <td>The Live Bakery</td>\n",
       "      <td>Bakery</td>\n",
       "      <td>3.658364</td>\n",
       "      <td>200</td>\n",
       "      <td>IIT</td>\n",
       "      <td>True</td>\n",
       "      <td>Yes</td>\n",
       "    </tr>\n",
       "    <tr>\n",
       "      <th>664</th>\n",
       "      <td>GO GREEN BAKERY</td>\n",
       "      <td>Bakery</td>\n",
       "      <td>3.658364</td>\n",
       "      <td>200</td>\n",
       "      <td>IIT</td>\n",
       "      <td>True</td>\n",
       "      <td>Yes</td>\n",
       "    </tr>\n",
       "    <tr>\n",
       "      <th>665</th>\n",
       "      <td>Fresh Cake</td>\n",
       "      <td>Bakery</td>\n",
       "      <td>3.658364</td>\n",
       "      <td>200</td>\n",
       "      <td>IIT</td>\n",
       "      <td>True</td>\n",
       "      <td>Yes</td>\n",
       "    </tr>\n",
       "    <tr>\n",
       "      <th>666</th>\n",
       "      <td>Ram Bakery</td>\n",
       "      <td>Bakery</td>\n",
       "      <td>3.658364</td>\n",
       "      <td>200</td>\n",
       "      <td>IIT</td>\n",
       "      <td>False</td>\n",
       "      <td>Yes</td>\n",
       "    </tr>\n",
       "  </tbody>\n",
       "</table>\n",
       "<p>667 rows × 7 columns</p>\n",
       "</div>"
      ],
      "text/plain": [
       "                           Restaurant Name Category    Rating  Cost for two  \\\n",
       "0    Singh's Delight Restaurant(Sunderpur)   Others  3.800000           350   \n",
       "1                              Burger King   Others  4.100000           350   \n",
       "2                               McDonald's   Others  4.000000           400   \n",
       "3                              Aman E Khas   Others  3.900000           350   \n",
       "4           Mahadev momo and coffee corner  Chinese  3.658364           200   \n",
       "..                                     ...      ...       ...           ...   \n",
       "662                        The Star Bakery   Bakery  3.658364           200   \n",
       "663                        The Live Bakery   Bakery  3.658364           200   \n",
       "664                        GO GREEN BAKERY   Bakery  3.658364           200   \n",
       "665                             Fresh Cake   Bakery  3.658364           200   \n",
       "666                             Ram Bakery   Bakery  3.658364           200   \n",
       "\n",
       "     Locality    Veg Long Distance Delivery  \n",
       "0      others  False                     No  \n",
       "1      others  False                     No  \n",
       "2      others  False                     No  \n",
       "3    Bhelupur  False                     No  \n",
       "4       Sigra  False                     No  \n",
       "..        ...    ...                    ...  \n",
       "662       IIT   True                    Yes  \n",
       "663       IIT   True                    Yes  \n",
       "664       IIT   True                    Yes  \n",
       "665       IIT   True                    Yes  \n",
       "666       IIT  False                    Yes  \n",
       "\n",
       "[667 rows x 7 columns]"
      ]
     },
     "execution_count": 56,
     "metadata": {},
     "output_type": "execute_result"
    }
   ],
   "source": [
    "#Replace 0 by No and 1 by Yes in Long Distance Delivery column\n",
    "swiggy_vns['Long Distance Delivery'] = swiggy_vns['Long Distance Delivery'].replace(0,'No')\n",
    "swiggy_vns['Long Distance Delivery'] = swiggy_vns['Long Distance Delivery'].replace(1,'Yes')\n",
    "swiggy_vns"
   ]
  },
  {
   "cell_type": "code",
   "execution_count": 30,
   "id": "bc92d69e",
   "metadata": {},
   "outputs": [
    {
     "data": {
      "text/html": [
       "<div>\n",
       "<style scoped>\n",
       "    .dataframe tbody tr th:only-of-type {\n",
       "        vertical-align: middle;\n",
       "    }\n",
       "\n",
       "    .dataframe tbody tr th {\n",
       "        vertical-align: top;\n",
       "    }\n",
       "\n",
       "    .dataframe thead th {\n",
       "        text-align: right;\n",
       "    }\n",
       "</style>\n",
       "<table border=\"1\" class=\"dataframe\">\n",
       "  <thead>\n",
       "    <tr style=\"text-align: right;\">\n",
       "      <th></th>\n",
       "      <th>Restaurant Name</th>\n",
       "      <th>Category</th>\n",
       "      <th>Rating</th>\n",
       "      <th>Cost for two</th>\n",
       "      <th>Locality</th>\n",
       "      <th>Veg</th>\n",
       "      <th>Long Distance Delivery</th>\n",
       "    </tr>\n",
       "  </thead>\n",
       "  <tbody>\n",
       "    <tr>\n",
       "      <th>0</th>\n",
       "      <td>Singh's Delight Restaurant(Sunderpur)</td>\n",
       "      <td>Others</td>\n",
       "      <td>3.800000</td>\n",
       "      <td>350</td>\n",
       "      <td>others</td>\n",
       "      <td>False</td>\n",
       "      <td>No</td>\n",
       "    </tr>\n",
       "    <tr>\n",
       "      <th>1</th>\n",
       "      <td>Burger King</td>\n",
       "      <td>Others</td>\n",
       "      <td>4.100000</td>\n",
       "      <td>350</td>\n",
       "      <td>others</td>\n",
       "      <td>False</td>\n",
       "      <td>No</td>\n",
       "    </tr>\n",
       "    <tr>\n",
       "      <th>2</th>\n",
       "      <td>McDonald's</td>\n",
       "      <td>Others</td>\n",
       "      <td>4.000000</td>\n",
       "      <td>400</td>\n",
       "      <td>others</td>\n",
       "      <td>False</td>\n",
       "      <td>No</td>\n",
       "    </tr>\n",
       "    <tr>\n",
       "      <th>3</th>\n",
       "      <td>Aman E Khas</td>\n",
       "      <td>Others</td>\n",
       "      <td>3.900000</td>\n",
       "      <td>350</td>\n",
       "      <td>Bhelupur</td>\n",
       "      <td>False</td>\n",
       "      <td>No</td>\n",
       "    </tr>\n",
       "    <tr>\n",
       "      <th>4</th>\n",
       "      <td>Mahadev momo and coffee corner</td>\n",
       "      <td>Chinese</td>\n",
       "      <td>3.658364</td>\n",
       "      <td>200</td>\n",
       "      <td>Sigra</td>\n",
       "      <td>False</td>\n",
       "      <td>No</td>\n",
       "    </tr>\n",
       "  </tbody>\n",
       "</table>\n",
       "</div>"
      ],
      "text/plain": [
       "                         Restaurant Name Category    Rating  Cost for two  \\\n",
       "0  Singh's Delight Restaurant(Sunderpur)   Others  3.800000           350   \n",
       "1                            Burger King   Others  4.100000           350   \n",
       "2                             McDonald's   Others  4.000000           400   \n",
       "3                            Aman E Khas   Others  3.900000           350   \n",
       "4         Mahadev momo and coffee corner  Chinese  3.658364           200   \n",
       "\n",
       "   Locality    Veg Long Distance Delivery  \n",
       "0    others  False                     No  \n",
       "1    others  False                     No  \n",
       "2    others  False                     No  \n",
       "3  Bhelupur  False                     No  \n",
       "4     Sigra  False                     No  "
      ]
     },
     "execution_count": 30,
     "metadata": {},
     "output_type": "execute_result"
    }
   ],
   "source": [
    "swiggy_vns.head()"
   ]
  },
  {
   "cell_type": "markdown",
   "id": "f784e93b",
   "metadata": {},
   "source": [
    "# Data Visualization"
   ]
  },
  {
   "cell_type": "code",
   "execution_count": 35,
   "id": "649cffef",
   "metadata": {},
   "outputs": [
    {
     "data": {
      "image/png": "[encoded data removed]",
      "text/plain": [
       "<Figure size 864x360 with 1 Axes>"
      ]
     },
     "metadata": {
      "needs_background": "light"
     },
     "output_type": "display_data"
    }
   ],
   "source": [
    "# Countplot of various locations\n",
    "plt.figure(figsize=(12,5))\n",
    "sns.countplot(swiggy_vns['Locality'], palette='rainbow')\n",
    "plt.title('Number of restaurants near every Locality')\n",
    "plt.show()"
   ]
  },
  {
   "cell_type": "code",
   "execution_count": 36,
   "id": "f081b260",
   "metadata": {},
   "outputs": [
    {
     "data": {
      "image/png": "[encoded data removed]",
      "text/plain": [
       "<Figure size 864x360 with 1 Axes>"
      ]
     },
     "metadata": {
      "needs_background": "light"
     },
     "output_type": "display_data"
    }
   ],
   "source": [
    "# Countplot of different category of food available\n",
    "plt.figure(figsize=(12,5))\n",
    "ax=sns.countplot(swiggy_vns['Category'], palette='rainbow')\n",
    "plt.xticks(rotation = 45)\n",
    "plt.show()"
   ]
  },
  {
   "cell_type": "code",
   "execution_count": 39,
   "id": "484817e1",
   "metadata": {},
   "outputs": [
    {
     "data": {
      "image/png": "[encoded data removed]",
      "text/plain": [
       "<Figure size 720x360 with 1 Axes>"
      ]
     },
     "metadata": {
      "needs_background": "light"
     },
     "output_type": "display_data"
    }
   ],
   "source": [
    "# Most restaurants do not deliver long distance\n",
    "plt.figure(figsize=(10,5))\n",
    "sns.countplot('Long Distance Delivery', data = swiggy_vns)\n",
    "plt.show()"
   ]
  },
  {
   "cell_type": "code",
   "execution_count": 40,
   "id": "8521e464",
   "metadata": {},
   "outputs": [
    {
     "data": {
      "image/png": "[encoded data removed]",
      "text/plain": [
       "<Figure size 432x432 with 1 Axes>"
      ]
     },
     "metadata": {
      "needs_background": "light"
     },
     "output_type": "display_data"
    }
   ],
   "source": [
    "# Visualizing long distance delivery vs Cost for two\n",
    "plt.figure(figsize=(6,6))\n",
    "sns.boxplot(x='Long Distance Delivery', y='Cost for two', data = swiggy_vns)\n",
    "plt.show()"
   ]
  },
  {
   "cell_type": "code",
   "execution_count": 52,
   "id": "de5fa759",
   "metadata": {},
   "outputs": [
    {
     "data": {
      "text/html": [
       "<div>\n",
       "<style scoped>\n",
       "    .dataframe tbody tr th:only-of-type {\n",
       "        vertical-align: middle;\n",
       "    }\n",
       "\n",
       "    .dataframe tbody tr th {\n",
       "        vertical-align: top;\n",
       "    }\n",
       "\n",
       "    .dataframe thead tr th {\n",
       "        text-align: left;\n",
       "    }\n",
       "\n",
       "    .dataframe thead tr:last-of-type th {\n",
       "        text-align: right;\n",
       "    }\n",
       "</style>\n",
       "<table border=\"1\" class=\"dataframe\">\n",
       "  <thead>\n",
       "    <tr>\n",
       "      <th></th>\n",
       "      <th colspan=\"2\" halign=\"left\">Restaurant Name</th>\n",
       "    </tr>\n",
       "    <tr>\n",
       "      <th>Veg</th>\n",
       "      <th>False</th>\n",
       "      <th>True</th>\n",
       "    </tr>\n",
       "    <tr>\n",
       "      <th>Locality</th>\n",
       "      <th></th>\n",
       "      <th></th>\n",
       "    </tr>\n",
       "  </thead>\n",
       "  <tbody>\n",
       "    <tr>\n",
       "      <th>Bhelupur</th>\n",
       "      <td>15</td>\n",
       "      <td>9</td>\n",
       "    </tr>\n",
       "    <tr>\n",
       "      <th>Chetganj</th>\n",
       "      <td>9</td>\n",
       "      <td>3</td>\n",
       "    </tr>\n",
       "    <tr>\n",
       "      <th>IIT</th>\n",
       "      <td>79</td>\n",
       "      <td>21</td>\n",
       "    </tr>\n",
       "    <tr>\n",
       "      <th>Lanka</th>\n",
       "      <td>121</td>\n",
       "      <td>31</td>\n",
       "    </tr>\n",
       "    <tr>\n",
       "      <th>Mahmoorganj</th>\n",
       "      <td>16</td>\n",
       "      <td>5</td>\n",
       "    </tr>\n",
       "    <tr>\n",
       "      <th>Nadesar</th>\n",
       "      <td>104</td>\n",
       "      <td>30</td>\n",
       "    </tr>\n",
       "    <tr>\n",
       "      <th>Sigra</th>\n",
       "      <td>104</td>\n",
       "      <td>57</td>\n",
       "    </tr>\n",
       "    <tr>\n",
       "      <th>others</th>\n",
       "      <td>45</td>\n",
       "      <td>18</td>\n",
       "    </tr>\n",
       "  </tbody>\n",
       "</table>\n",
       "</div>"
      ],
      "text/plain": [
       "            Restaurant Name     \n",
       "Veg                   False True\n",
       "Locality                        \n",
       "Bhelupur                 15    9\n",
       "Chetganj                  9    3\n",
       "IIT                      79   21\n",
       "Lanka                   121   31\n",
       "Mahmoorganj              16    5\n",
       "Nadesar                 104   30\n",
       "Sigra                   104   57\n",
       "others                   45   18"
      ]
     },
     "execution_count": 52,
     "metadata": {},
     "output_type": "execute_result"
    }
   ],
   "source": [
    "# Visualizing choice for food (veg/non-veg) based on location\n",
    "swiggy_vns_veg_restaurants = swiggy_vns.groupby(['Locality','Veg'])['Restaurant Name'].count().to_frame()\n",
    "#df1.to_csv('location_veg.csv')\n",
    "#df1 = pd.read_csv('location_veg.csv')\n",
    "swiggy_vns_veg_restaurants = pd.pivot_table(swiggy_vns_veg_restaurants, \n",
    "                                            values=None, \n",
    "                                            index=['Locality'], \n",
    "                                            columns=['Veg'], \n",
    "                                            fill_value=0, \n",
    "                                            aggfunc=np.sum)\n",
    "swiggy_vns_veg_restaurants"
   ]
  },
  {
   "cell_type": "markdown",
   "id": "e0707810",
   "metadata": {},
   "source": [
    "Most Vegetarian Restaurants can be found in Sigra"
   ]
  },
  {
   "cell_type": "code",
   "execution_count": 54,
   "id": "9c74e807",
   "metadata": {},
   "outputs": [
    {
     "data": {
      "image/png": "[encoded data removed]",
      "text/plain": [
       "<Figure size 864x432 with 1 Axes>"
      ]
     },
     "metadata": {
      "needs_background": "light"
     },
     "output_type": "display_data"
    }
   ],
   "source": [
    "swiggy_vns_veg_restaurants.plot(kind='bar',figsize=(12,6))\n",
    "plt.show()"
   ]
  },
  {
   "cell_type": "code",
   "execution_count": 57,
   "id": "5f2842b8",
   "metadata": {},
   "outputs": [
    {
     "data": {
      "text/html": [
       "<div>\n",
       "<style scoped>\n",
       "    .dataframe tbody tr th:only-of-type {\n",
       "        vertical-align: middle;\n",
       "    }\n",
       "\n",
       "    .dataframe tbody tr th {\n",
       "        vertical-align: top;\n",
       "    }\n",
       "\n",
       "    .dataframe thead tr th {\n",
       "        text-align: left;\n",
       "    }\n",
       "\n",
       "    .dataframe thead tr:last-of-type th {\n",
       "        text-align: right;\n",
       "    }\n",
       "</style>\n",
       "<table border=\"1\" class=\"dataframe\">\n",
       "  <thead>\n",
       "    <tr>\n",
       "      <th></th>\n",
       "      <th colspan=\"2\" halign=\"left\">Restaurant Name</th>\n",
       "    </tr>\n",
       "    <tr>\n",
       "      <th>Long Distance Delivery</th>\n",
       "      <th>No</th>\n",
       "      <th>Yes</th>\n",
       "    </tr>\n",
       "    <tr>\n",
       "      <th>Locality</th>\n",
       "      <th></th>\n",
       "      <th></th>\n",
       "    </tr>\n",
       "  </thead>\n",
       "  <tbody>\n",
       "    <tr>\n",
       "      <th>Bhelupur</th>\n",
       "      <td>19</td>\n",
       "      <td>5</td>\n",
       "    </tr>\n",
       "    <tr>\n",
       "      <th>Chetganj</th>\n",
       "      <td>12</td>\n",
       "      <td>0</td>\n",
       "    </tr>\n",
       "    <tr>\n",
       "      <th>IIT</th>\n",
       "      <td>75</td>\n",
       "      <td>25</td>\n",
       "    </tr>\n",
       "    <tr>\n",
       "      <th>Lanka</th>\n",
       "      <td>92</td>\n",
       "      <td>60</td>\n",
       "    </tr>\n",
       "    <tr>\n",
       "      <th>Mahmoorganj</th>\n",
       "      <td>21</td>\n",
       "      <td>0</td>\n",
       "    </tr>\n",
       "    <tr>\n",
       "      <th>Nadesar</th>\n",
       "      <td>90</td>\n",
       "      <td>44</td>\n",
       "    </tr>\n",
       "    <tr>\n",
       "      <th>Sigra</th>\n",
       "      <td>158</td>\n",
       "      <td>3</td>\n",
       "    </tr>\n",
       "    <tr>\n",
       "      <th>others</th>\n",
       "      <td>49</td>\n",
       "      <td>14</td>\n",
       "    </tr>\n",
       "  </tbody>\n",
       "</table>\n",
       "</div>"
      ],
      "text/plain": [
       "                       Restaurant Name    \n",
       "Long Distance Delivery              No Yes\n",
       "Locality                                  \n",
       "Bhelupur                            19   5\n",
       "Chetganj                            12   0\n",
       "IIT                                 75  25\n",
       "Lanka                               92  60\n",
       "Mahmoorganj                         21   0\n",
       "Nadesar                             90  44\n",
       "Sigra                              158   3\n",
       "others                              49  14"
      ]
     },
     "execution_count": 57,
     "metadata": {},
     "output_type": "execute_result"
    }
   ],
   "source": [
    "# Visualizing long distance delivery, location wise\n",
    "swiggy_vns_restr_delivery = swiggy_vns.groupby(['Locality','Long Distance Delivery'])['Restaurant Name'].count().to_frame()\n",
    "swiggy_vns_restr_delivery = pd.pivot_table(swiggy_vns_restr_delivery, \n",
    "                                           values=None, \n",
    "                                           index=['Locality'], \n",
    "                                           columns=['Long Distance Delivery'], \n",
    "                                           fill_value=0, \n",
    "                                           aggfunc=np.sum)\n",
    "swiggy_vns_restr_delivery"
   ]
  },
  {
   "cell_type": "code",
   "execution_count": 59,
   "id": "9414353e",
   "metadata": {},
   "outputs": [
    {
     "data": {
      "image/png": "[encoded data removed]",
      "text/plain": [
       "<Figure size 1080x576 with 1 Axes>"
      ]
     },
     "metadata": {
      "needs_background": "light"
     },
     "output_type": "display_data"
    }
   ],
   "source": [
    "swiggy_vns_restr_delivery.plot(kind='bar',figsize=(15,8))\n",
    "plt.show()"
   ]
  },
  {
   "cell_type": "code",
   "execution_count": 61,
   "id": "f23be55f",
   "metadata": {},
   "outputs": [
    {
     "data": {
      "text/html": [
       "<div>\n",
       "<style scoped>\n",
       "    .dataframe tbody tr th:only-of-type {\n",
       "        vertical-align: middle;\n",
       "    }\n",
       "\n",
       "    .dataframe tbody tr th {\n",
       "        vertical-align: top;\n",
       "    }\n",
       "\n",
       "    .dataframe thead tr th {\n",
       "        text-align: left;\n",
       "    }\n",
       "\n",
       "    .dataframe thead tr:last-of-type th {\n",
       "        text-align: right;\n",
       "    }\n",
       "</style>\n",
       "<table border=\"1\" class=\"dataframe\">\n",
       "  <thead>\n",
       "    <tr>\n",
       "      <th></th>\n",
       "      <th colspan=\"6\" halign=\"left\">Restaurant Name</th>\n",
       "    </tr>\n",
       "    <tr>\n",
       "      <th>Category</th>\n",
       "      <th>Bakery</th>\n",
       "      <th>Chinese</th>\n",
       "      <th>Indian</th>\n",
       "      <th>North Indian</th>\n",
       "      <th>Others</th>\n",
       "      <th>Pizzas</th>\n",
       "    </tr>\n",
       "    <tr>\n",
       "      <th>Locality</th>\n",
       "      <th></th>\n",
       "      <th></th>\n",
       "      <th></th>\n",
       "      <th></th>\n",
       "      <th></th>\n",
       "      <th></th>\n",
       "    </tr>\n",
       "  </thead>\n",
       "  <tbody>\n",
       "    <tr>\n",
       "      <th>Bhelupur</th>\n",
       "      <td>0</td>\n",
       "      <td>1</td>\n",
       "      <td>0</td>\n",
       "      <td>0</td>\n",
       "      <td>23</td>\n",
       "      <td>0</td>\n",
       "    </tr>\n",
       "    <tr>\n",
       "      <th>Chetganj</th>\n",
       "      <td>2</td>\n",
       "      <td>0</td>\n",
       "      <td>0</td>\n",
       "      <td>0</td>\n",
       "      <td>10</td>\n",
       "      <td>0</td>\n",
       "    </tr>\n",
       "    <tr>\n",
       "      <th>IIT</th>\n",
       "      <td>12</td>\n",
       "      <td>4</td>\n",
       "      <td>5</td>\n",
       "      <td>3</td>\n",
       "      <td>76</td>\n",
       "      <td>0</td>\n",
       "    </tr>\n",
       "    <tr>\n",
       "      <th>Lanka</th>\n",
       "      <td>4</td>\n",
       "      <td>7</td>\n",
       "      <td>3</td>\n",
       "      <td>7</td>\n",
       "      <td>128</td>\n",
       "      <td>3</td>\n",
       "    </tr>\n",
       "    <tr>\n",
       "      <th>Mahmoorganj</th>\n",
       "      <td>1</td>\n",
       "      <td>0</td>\n",
       "      <td>0</td>\n",
       "      <td>0</td>\n",
       "      <td>19</td>\n",
       "      <td>1</td>\n",
       "    </tr>\n",
       "    <tr>\n",
       "      <th>Nadesar</th>\n",
       "      <td>14</td>\n",
       "      <td>5</td>\n",
       "      <td>4</td>\n",
       "      <td>2</td>\n",
       "      <td>107</td>\n",
       "      <td>2</td>\n",
       "    </tr>\n",
       "    <tr>\n",
       "      <th>Sigra</th>\n",
       "      <td>6</td>\n",
       "      <td>3</td>\n",
       "      <td>11</td>\n",
       "      <td>2</td>\n",
       "      <td>132</td>\n",
       "      <td>7</td>\n",
       "    </tr>\n",
       "    <tr>\n",
       "      <th>others</th>\n",
       "      <td>1</td>\n",
       "      <td>0</td>\n",
       "      <td>2</td>\n",
       "      <td>1</td>\n",
       "      <td>59</td>\n",
       "      <td>0</td>\n",
       "    </tr>\n",
       "  </tbody>\n",
       "</table>\n",
       "</div>"
      ],
      "text/plain": [
       "            Restaurant Name                                          \n",
       "Category             Bakery Chinese Indian North Indian Others Pizzas\n",
       "Locality                                                             \n",
       "Bhelupur                  0       1      0            0     23      0\n",
       "Chetganj                  2       0      0            0     10      0\n",
       "IIT                      12       4      5            3     76      0\n",
       "Lanka                     4       7      3            7    128      3\n",
       "Mahmoorganj               1       0      0            0     19      1\n",
       "Nadesar                  14       5      4            2    107      2\n",
       "Sigra                     6       3     11            2    132      7\n",
       "others                    1       0      2            1     59      0"
      ]
     },
     "execution_count": 61,
     "metadata": {},
     "output_type": "execute_result"
    }
   ],
   "source": [
    "# Grouping Type of restaurants locality wise\n",
    "swiggy_vns_restr_category = swiggy_vns.groupby(['Locality','Category'])['Restaurant Name'].count().to_frame()\n",
    "swiggy_vns_restr_category = pd.pivot_table(swiggy_vns_restr_category, \n",
    "                                           values=None, \n",
    "                                           index=['Locality'], \n",
    "                                           columns=['Category'], \n",
    "                                           fill_value=0, \n",
    "                                           aggfunc=np.sum)\n",
    "swiggy_vns_restr_category"
   ]
  },
  {
   "cell_type": "code",
   "execution_count": 62,
   "id": "cd2be97e",
   "metadata": {},
   "outputs": [
    {
     "data": {
      "image/png": "[encoded data removed]",
      "text/plain": [
       "<Figure size 1080x576 with 1 Axes>"
      ]
     },
     "metadata": {
      "needs_background": "light"
     },
     "output_type": "display_data"
    }
   ],
   "source": [
    "swiggy_vns_restr_category.plot(kind='bar', figsize=(15,8))\n",
    "plt.show()"
   ]
  },
  {
   "cell_type": "code",
   "execution_count": 73,
   "id": "67c416f1",
   "metadata": {},
   "outputs": [
    {
     "data": {
      "text/html": [
       "<div>\n",
       "<style scoped>\n",
       "    .dataframe tbody tr th:only-of-type {\n",
       "        vertical-align: middle;\n",
       "    }\n",
       "\n",
       "    .dataframe tbody tr th {\n",
       "        vertical-align: top;\n",
       "    }\n",
       "\n",
       "    .dataframe thead th {\n",
       "        text-align: right;\n",
       "    }\n",
       "</style>\n",
       "<table border=\"1\" class=\"dataframe\">\n",
       "  <thead>\n",
       "    <tr style=\"text-align: right;\">\n",
       "      <th></th>\n",
       "      <th>Rating</th>\n",
       "    </tr>\n",
       "    <tr>\n",
       "      <th>Locality</th>\n",
       "      <th></th>\n",
       "    </tr>\n",
       "  </thead>\n",
       "  <tbody>\n",
       "    <tr>\n",
       "      <th>Bhelupur</th>\n",
       "      <td>3.809030</td>\n",
       "    </tr>\n",
       "    <tr>\n",
       "      <th>Chetganj</th>\n",
       "      <td>3.609727</td>\n",
       "    </tr>\n",
       "    <tr>\n",
       "      <th>IIT</th>\n",
       "      <td>3.537190</td>\n",
       "    </tr>\n",
       "    <tr>\n",
       "      <th>Lanka</th>\n",
       "      <td>3.660492</td>\n",
       "    </tr>\n",
       "    <tr>\n",
       "      <th>Mahmoorganj</th>\n",
       "      <td>3.847230</td>\n",
       "    </tr>\n",
       "    <tr>\n",
       "      <th>Nadesar</th>\n",
       "      <td>3.676699</td>\n",
       "    </tr>\n",
       "    <tr>\n",
       "      <th>Sigra</th>\n",
       "      <td>3.665497</td>\n",
       "    </tr>\n",
       "    <tr>\n",
       "      <th>others</th>\n",
       "      <td>3.677259</td>\n",
       "    </tr>\n",
       "  </tbody>\n",
       "</table>\n",
       "</div>"
      ],
      "text/plain": [
       "               Rating\n",
       "Locality             \n",
       "Bhelupur     3.809030\n",
       "Chetganj     3.609727\n",
       "IIT          3.537190\n",
       "Lanka        3.660492\n",
       "Mahmoorganj  3.847230\n",
       "Nadesar      3.676699\n",
       "Sigra        3.665497\n",
       "others       3.677259"
      ]
     },
     "execution_count": 73,
     "metadata": {},
     "output_type": "execute_result"
    }
   ],
   "source": [
    "# Restaurants according to rating\n",
    "swiggy_vns_restr_rating = swiggy_vns.groupby('Locality').agg({'Rating':np.mean})\n",
    "swiggy_vns_restr_rating"
   ]
  },
  {
   "cell_type": "code",
   "execution_count": 75,
   "id": "c2e32698",
   "metadata": {},
   "outputs": [
    {
     "data": {
      "image/png": "[encoded data removed]",
      "text/plain": [
       "<Figure size 1080x360 with 1 Axes>"
      ]
     },
     "metadata": {
      "needs_background": "light"
     },
     "output_type": "display_data"
    }
   ],
   "source": [
    "swiggy_vns_restr_rating.plot(kind='bar', figsize=(15,5))\n",
    "plt.show()"
   ]
  },
  {
   "cell_type": "markdown",
   "id": "24c7bfaf",
   "metadata": {},
   "source": [
    "# Conclusion"
   ]
  },
  {
   "cell_type": "markdown",
   "id": "2ee23440",
   "metadata": {},
   "source": [
    "* We infer that that number of Vegetarian Restaurants in any Locality are much lesser than number of restaurants offering Non-veg. \n",
    "* In all the localities, restaurants delivering long distance are few compared to those delivering long distance.\n",
    "* There is no place near IIT that offers only pizzas. So, if a person wants to open a restaurant near IIT, they can consider opening only pizza restaurant."
   ]
  },
  {
   "cell_type": "code",
   "execution_count": null,
   "id": "9f96aecd",
   "metadata": {},
   "outputs": [],
   "source": []
  }
 ],
 "metadata": {
  "kernelspec": {
   "display_name": "Python 3",
   "language": "python",
   "name": "python3"
  },
  "language_info": {
   "codemirror_mode": {
    "name": "ipython",
    "version": 3
   },
   "file_extension": ".py",
   "mimetype": "text/x-python",
   "name": "python",
   "nbconvert_exporter": "python",
   "pygments_lexer": "ipython3",
   "version": "3.8.8"
  }
 },
 "nbformat": 4,
 "nbformat_minor": 5
}
